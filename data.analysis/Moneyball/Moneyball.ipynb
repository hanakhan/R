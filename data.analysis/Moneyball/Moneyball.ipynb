{
 "cells": [
  {
   "cell_type": "markdown",
   "metadata": {},
   "source": [
    "# Moneyball Project: Using R to Recruit Under-Valued Players"
   ]
  },
  {
   "cell_type": "markdown",
   "metadata": {},
   "source": [
    "**Objective**<br>\n",
    "The goal of this project is to analyze baseball statistics and salaries to find best-playing but under-valued players to replace the 3 key players the Oakland A's lost in 2001."
   ]
  },
  {
   "cell_type": "markdown",
   "metadata": {},
   "source": [
    "**Data**<br>\n",
    "We'll be using data from Sean Lahaman's Website a very useful source for baseball statistics. The documentation for the csv files is located in the readme2013.txt file. You may need to reference this to understand what acronyms stand for."
   ]
  },
  {
   "cell_type": "markdown",
   "metadata": {},
   "source": [
    "**Use R to open the Batting.csv file and assign it to a dataframe called batting using read.csv**"
   ]
  },
  {
   "cell_type": "code",
   "execution_count": 1,
   "metadata": {
    "collapsed": false
   },
   "outputs": [
    {
     "data": {
      "text/html": [
       "<table>\n",
       "<thead><tr><th></th><th scope=col>playerID</th><th scope=col>yearID</th><th scope=col>stint</th><th scope=col>teamID</th><th scope=col>lgID</th><th scope=col>G</th><th scope=col>G_batting</th><th scope=col>AB</th><th scope=col>R</th><th scope=col>H</th><th scope=col>⋯</th><th scope=col>SB</th><th scope=col>CS</th><th scope=col>BB</th><th scope=col>SO</th><th scope=col>IBB</th><th scope=col>HBP</th><th scope=col>SH</th><th scope=col>SF</th><th scope=col>GIDP</th><th scope=col>G_old</th></tr></thead>\n",
       "<tbody>\n",
       "\t<tr><th scope=row>1</th><td>aardsda01</td><td>2004     </td><td>1        </td><td>SFN      </td><td>NL       </td><td>11       </td><td>11       </td><td>0        </td><td>0        </td><td>0        </td><td>⋯        </td><td>0        </td><td>0        </td><td>0        </td><td>0        </td><td>0        </td><td>0        </td><td>0        </td><td>0        </td><td>0        </td><td>11       </td></tr>\n",
       "\t<tr><th scope=row>2</th><td>aardsda01</td><td>2006     </td><td>1        </td><td>CHN      </td><td>NL       </td><td>45       </td><td>43       </td><td>2        </td><td>0        </td><td>0        </td><td>⋯        </td><td>0        </td><td>0        </td><td>0        </td><td>0        </td><td>0        </td><td>0        </td><td>1        </td><td>0        </td><td>0        </td><td>45       </td></tr>\n",
       "\t<tr><th scope=row>3</th><td>aardsda01</td><td>2007     </td><td>1        </td><td>CHA      </td><td>AL       </td><td>25       </td><td>2        </td><td>0        </td><td>0        </td><td>0        </td><td>⋯        </td><td>0        </td><td>0        </td><td>0        </td><td>0        </td><td>0        </td><td>0        </td><td>0        </td><td>0        </td><td>0        </td><td>2        </td></tr>\n",
       "\t<tr><th scope=row>4</th><td>aardsda01</td><td>2008     </td><td>1        </td><td>BOS      </td><td>AL       </td><td>47       </td><td>5        </td><td>1        </td><td>0        </td><td>0        </td><td>⋯        </td><td>0        </td><td>0        </td><td>0        </td><td>1        </td><td>0        </td><td>0        </td><td>0        </td><td>0        </td><td>0        </td><td>5        </td></tr>\n",
       "\t<tr><th scope=row>5</th><td>aardsda01</td><td>2009     </td><td>1        </td><td>SEA      </td><td>AL       </td><td>73       </td><td>3        </td><td>0        </td><td>0        </td><td>0        </td><td>⋯        </td><td>0        </td><td>0        </td><td>0        </td><td>0        </td><td>0        </td><td>0        </td><td>0        </td><td>0        </td><td>0        </td><td>NA       </td></tr>\n",
       "\t<tr><th scope=row>6</th><td>aardsda01</td><td>2010     </td><td>1        </td><td>SEA      </td><td>AL       </td><td>53       </td><td>4        </td><td>0        </td><td>0        </td><td>0        </td><td>⋯        </td><td>0        </td><td>0        </td><td>0        </td><td>0        </td><td>0        </td><td>0        </td><td>0        </td><td>0        </td><td>0        </td><td>NA       </td></tr>\n",
       "</tbody>\n",
       "</table>\n"
      ],
      "text/latex": [
       "\\begin{tabular}{r|llllllllllllllllllllllll}\n",
       "  & playerID & yearID & stint & teamID & lgID & G & G\\_batting & AB & R & H & ⋯ & SB & CS & BB & SO & IBB & HBP & SH & SF & GIDP & G\\_old\\\\\n",
       "\\hline\n",
       "\t1 & aardsda01 & 2004      & 1         & SFN       & NL        & 11        & 11        & 0         & 0         & 0         & ⋯         & 0         & 0         & 0         & 0         & 0         & 0         & 0         & 0         & 0         & 11       \\\\\n",
       "\t2 & aardsda01 & 2006      & 1         & CHN       & NL        & 45        & 43        & 2         & 0         & 0         & ⋯         & 0         & 0         & 0         & 0         & 0         & 0         & 1         & 0         & 0         & 45       \\\\\n",
       "\t3 & aardsda01 & 2007      & 1         & CHA       & AL        & 25        & 2         & 0         & 0         & 0         & ⋯         & 0         & 0         & 0         & 0         & 0         & 0         & 0         & 0         & 0         & 2        \\\\\n",
       "\t4 & aardsda01 & 2008      & 1         & BOS       & AL        & 47        & 5         & 1         & 0         & 0         & ⋯         & 0         & 0         & 0         & 1         & 0         & 0         & 0         & 0         & 0         & 5        \\\\\n",
       "\t5 & aardsda01 & 2009      & 1         & SEA       & AL        & 73        & 3         & 0         & 0         & 0         & ⋯         & 0         & 0         & 0         & 0         & 0         & 0         & 0         & 0         & 0         & NA       \\\\\n",
       "\t6 & aardsda01 & 2010      & 1         & SEA       & AL        & 53        & 4         & 0         & 0         & 0         & ⋯         & 0         & 0         & 0         & 0         & 0         & 0         & 0         & 0         & 0         & NA       \\\\\n",
       "\\end{tabular}\n"
      ],
      "text/plain": [
       "   playerID yearID stint teamID lgID  G G_batting AB R H ⋯ SB CS BB SO IBB HBP\n",
       "1 aardsda01   2004     1    SFN   NL 11        11  0 0 0 ⋯  0  0  0  0   0   0\n",
       "2 aardsda01   2006     1    CHN   NL 45        43  2 0 0 ⋯  0  0  0  0   0   0\n",
       "3 aardsda01   2007     1    CHA   AL 25         2  0 0 0 ⋯  0  0  0  0   0   0\n",
       "4 aardsda01   2008     1    BOS   AL 47         5  1 0 0 ⋯  0  0  0  1   0   0\n",
       "5 aardsda01   2009     1    SEA   AL 73         3  0 0 0 ⋯  0  0  0  0   0   0\n",
       "6 aardsda01   2010     1    SEA   AL 53         4  0 0 0 ⋯  0  0  0  0   0   0\n",
       "  SH SF GIDP G_old\n",
       "1  0  0    0    11\n",
       "2  1  0    0    45\n",
       "3  0  0    0     2\n",
       "4  0  0    0     5\n",
       "5  0  0    0    NA\n",
       "6  0  0    0    NA"
      ]
     },
     "metadata": {},
     "output_type": "display_data"
    }
   ],
   "source": [
    "batting <- read.csv('Batting.csv')\n",
    "head(batting)"
   ]
  },
  {
   "cell_type": "markdown",
   "metadata": {
    "collapsed": true
   },
   "source": [
    "**Use str() to check the structure. Pay close attention to how columns that start with a number get an 'X' in front of them! You'll need to know this to call those columns!**"
   ]
  },
  {
   "cell_type": "code",
   "execution_count": 4,
   "metadata": {
    "collapsed": false
   },
   "outputs": [
    {
     "name": "stdout",
     "output_type": "stream",
     "text": [
      "'data.frame':\t97889 obs. of  24 variables:\n",
      " $ playerID : Factor w/ 18107 levels \"aardsda01\",\"aaronha01\",..: 1 1 1 1 1 1 1 2 2 2 ...\n",
      " $ yearID   : int  2004 2006 2007 2008 2009 2010 2012 1954 1955 1956 ...\n",
      " $ stint    : int  1 1 1 1 1 1 1 1 1 1 ...\n",
      " $ teamID   : Factor w/ 149 levels \"ALT\",\"ANA\",\"ARI\",..: 117 35 33 16 116 116 93 80 80 80 ...\n",
      " $ lgID     : Factor w/ 6 levels \"AA\",\"AL\",\"FL\",..: 4 4 2 2 2 2 2 4 4 4 ...\n",
      " $ G        : int  11 45 25 47 73 53 1 122 153 153 ...\n",
      " $ G_batting: int  11 43 2 5 3 4 NA 122 153 153 ...\n",
      " $ AB       : int  0 2 0 1 0 0 NA 468 602 609 ...\n",
      " $ R        : int  0 0 0 0 0 0 NA 58 105 106 ...\n",
      " $ H        : int  0 0 0 0 0 0 NA 131 189 200 ...\n",
      " $ X2B      : int  0 0 0 0 0 0 NA 27 37 34 ...\n",
      " $ X3B      : int  0 0 0 0 0 0 NA 6 9 14 ...\n",
      " $ HR       : int  0 0 0 0 0 0 NA 13 27 26 ...\n",
      " $ RBI      : int  0 0 0 0 0 0 NA 69 106 92 ...\n",
      " $ SB       : int  0 0 0 0 0 0 NA 2 3 2 ...\n",
      " $ CS       : int  0 0 0 0 0 0 NA 2 1 4 ...\n",
      " $ BB       : int  0 0 0 0 0 0 NA 28 49 37 ...\n",
      " $ SO       : int  0 0 0 1 0 0 NA 39 61 54 ...\n",
      " $ IBB      : int  0 0 0 0 0 0 NA NA 5 6 ...\n",
      " $ HBP      : int  0 0 0 0 0 0 NA 3 3 2 ...\n",
      " $ SH       : int  0 1 0 0 0 0 NA 6 7 5 ...\n",
      " $ SF       : int  0 0 0 0 0 0 NA 4 4 7 ...\n",
      " $ GIDP     : int  0 0 0 0 0 0 NA 13 20 21 ...\n",
      " $ G_old    : int  11 45 2 5 NA NA NA 122 153 153 ...\n"
     ]
    }
   ],
   "source": [
    "str(batting)"
   ]
  },
  {
   "cell_type": "code",
   "execution_count": 5,
   "metadata": {
    "collapsed": false
   },
   "outputs": [
    {
     "data": {
      "text/html": [
       "<ol class=list-inline>\n",
       "\t<li>0</li>\n",
       "\t<li>2</li>\n",
       "\t<li>0</li>\n",
       "\t<li>1</li>\n",
       "\t<li>0</li>\n",
       "\t<li>0</li>\n",
       "</ol>\n"
      ],
      "text/latex": [
       "\\begin{enumerate*}\n",
       "\\item 0\n",
       "\\item 2\n",
       "\\item 0\n",
       "\\item 1\n",
       "\\item 0\n",
       "\\item 0\n",
       "\\end{enumerate*}\n"
      ],
      "text/markdown": [
       "1. 0\n",
       "2. 2\n",
       "3. 0\n",
       "4. 1\n",
       "5. 0\n",
       "6. 0\n",
       "\n",
       "\n"
      ],
      "text/plain": [
       "[1] 0 2 0 1 0 0"
      ]
     },
     "metadata": {},
     "output_type": "display_data"
    }
   ],
   "source": [
    "#Call the head() of the first five rows of AB (At Bats) column\n",
    "head(batting$AB)"
   ]
  },
  {
   "cell_type": "code",
   "execution_count": 6,
   "metadata": {
    "collapsed": false
   },
   "outputs": [
    {
     "data": {
      "text/html": [
       "<ol class=list-inline>\n",
       "\t<li>0</li>\n",
       "\t<li>0</li>\n",
       "\t<li>0</li>\n",
       "\t<li>0</li>\n",
       "\t<li>0</li>\n",
       "\t<li>0</li>\n",
       "</ol>\n"
      ],
      "text/latex": [
       "\\begin{enumerate*}\n",
       "\\item 0\n",
       "\\item 0\n",
       "\\item 0\n",
       "\\item 0\n",
       "\\item 0\n",
       "\\item 0\n",
       "\\end{enumerate*}\n"
      ],
      "text/markdown": [
       "1. 0\n",
       "2. 0\n",
       "3. 0\n",
       "4. 0\n",
       "5. 0\n",
       "6. 0\n",
       "\n",
       "\n"
      ],
      "text/plain": [
       "[1] 0 0 0 0 0 0"
      ]
     },
     "metadata": {},
     "output_type": "display_data"
    }
   ],
   "source": [
    "#Call the head of the doubles (X2B) column\n",
    "head(batting$X2B)"
   ]
  },
  {
   "cell_type": "markdown",
   "metadata": {},
   "source": [
    "**Feature Engineering**<br>\n",
    "We need to create a new column for Batting Average, which is equal to Hits (H) divided by At Base (AB). A new column **BA** will be added to represent the Batting Average:"
   ]
  },
  {
   "cell_type": "code",
   "execution_count": 2,
   "metadata": {
    "collapsed": true
   },
   "outputs": [],
   "source": [
    "batting$BA <- batting$H/batting$AB"
   ]
  },
  {
   "cell_type": "code",
   "execution_count": 9,
   "metadata": {
    "collapsed": false
   },
   "outputs": [
    {
     "data": {
      "text/html": [
       "<ol class=list-inline>\n",
       "\t<li>0.123076923076923</li>\n",
       "\t<li>0.274647887323944</li>\n",
       "\t<li>0.147058823529412</li>\n",
       "\t<li>0.274509803921569</li>\n",
       "\t<li>0.213872832369942</li>\n",
       "</ol>\n"
      ],
      "text/latex": [
       "\\begin{enumerate*}\n",
       "\\item 0.123076923076923\n",
       "\\item 0.274647887323944\n",
       "\\item 0.147058823529412\n",
       "\\item 0.274509803921569\n",
       "\\item 0.213872832369942\n",
       "\\end{enumerate*}\n"
      ],
      "text/markdown": [
       "1. 0.123076923076923\n",
       "2. 0.274647887323944\n",
       "3. 0.147058823529412\n",
       "4. 0.274509803921569\n",
       "5. 0.213872832369942\n",
       "\n",
       "\n"
      ],
      "text/plain": [
       "[1] 0.1230769 0.2746479 0.1470588 0.2745098 0.2138728"
      ]
     },
     "metadata": {},
     "output_type": "display_data"
    }
   ],
   "source": [
    "#Check last 5 entries in this new BA column:\n",
    "tail(batting$BA,5)"
   ]
  },
  {
   "cell_type": "markdown",
   "metadata": {
    "collapsed": true
   },
   "source": [
    "**Next, creating columns for On Base Percentage (OBP) and Slugging Percentage (SLG). SLG requires 1B (Singles), which can be calculated by: <br><br>**\n",
    "1B = Total Hits(H)-Doubles(2B)-Triples(3B)-Home Runs(HR)"
   ]
  },
  {
   "cell_type": "code",
   "execution_count": 3,
   "metadata": {
    "collapsed": true
   },
   "outputs": [],
   "source": [
    "#On Base Percentage (OBP):\n",
    "batting$OBP <- (batting$H + batting$BB + batting$HBP)/(batting$AB + batting$BB + batting$HBP + batting$SF)"
   ]
  },
  {
   "cell_type": "code",
   "execution_count": 4,
   "metadata": {
    "collapsed": true
   },
   "outputs": [],
   "source": [
    "#Slugging Percentage (SLG):\n",
    "#First creating column for Singles (X1B):\n",
    "batting$X1B <- batting$H - batting$X2B - batting$X3B - batting$HR\n",
    "\n",
    "#Calculating Slugging Average:\n",
    "batting$SLG <- ((1 * batting$X1B) + (2 * batting$X2B) + (3 * batting$X3B) + (4 * batting$HR) ) / batting$AB\n"
   ]
  },
  {
   "cell_type": "code",
   "execution_count": 5,
   "metadata": {
    "collapsed": false
   },
   "outputs": [
    {
     "name": "stdout",
     "output_type": "stream",
     "text": [
      "'data.frame':\t97889 obs. of  28 variables:\n",
      " $ playerID : Factor w/ 18107 levels \"aardsda01\",\"aaronha01\",..: 1 1 1 1 1 1 1 2 2 2 ...\n",
      " $ yearID   : int  2004 2006 2007 2008 2009 2010 2012 1954 1955 1956 ...\n",
      " $ stint    : int  1 1 1 1 1 1 1 1 1 1 ...\n",
      " $ teamID   : Factor w/ 149 levels \"ALT\",\"ANA\",\"ARI\",..: 117 35 33 16 116 116 93 80 80 80 ...\n",
      " $ lgID     : Factor w/ 6 levels \"AA\",\"AL\",\"FL\",..: 4 4 2 2 2 2 2 4 4 4 ...\n",
      " $ G        : int  11 45 25 47 73 53 1 122 153 153 ...\n",
      " $ G_batting: int  11 43 2 5 3 4 NA 122 153 153 ...\n",
      " $ AB       : int  0 2 0 1 0 0 NA 468 602 609 ...\n",
      " $ R        : int  0 0 0 0 0 0 NA 58 105 106 ...\n",
      " $ H        : int  0 0 0 0 0 0 NA 131 189 200 ...\n",
      " $ X2B      : int  0 0 0 0 0 0 NA 27 37 34 ...\n",
      " $ X3B      : int  0 0 0 0 0 0 NA 6 9 14 ...\n",
      " $ HR       : int  0 0 0 0 0 0 NA 13 27 26 ...\n",
      " $ RBI      : int  0 0 0 0 0 0 NA 69 106 92 ...\n",
      " $ SB       : int  0 0 0 0 0 0 NA 2 3 2 ...\n",
      " $ CS       : int  0 0 0 0 0 0 NA 2 1 4 ...\n",
      " $ BB       : int  0 0 0 0 0 0 NA 28 49 37 ...\n",
      " $ SO       : int  0 0 0 1 0 0 NA 39 61 54 ...\n",
      " $ IBB      : int  0 0 0 0 0 0 NA NA 5 6 ...\n",
      " $ HBP      : int  0 0 0 0 0 0 NA 3 3 2 ...\n",
      " $ SH       : int  0 1 0 0 0 0 NA 6 7 5 ...\n",
      " $ SF       : int  0 0 0 0 0 0 NA 4 4 7 ...\n",
      " $ GIDP     : int  0 0 0 0 0 0 NA 13 20 21 ...\n",
      " $ G_old    : int  11 45 2 5 NA NA NA 122 153 153 ...\n",
      " $ BA       : num  NaN 0 NaN 0 NaN ...\n",
      " $ OBP      : num  NaN 0 NaN 0 NaN ...\n",
      " $ X1B      : int  0 0 0 0 0 0 NA 85 116 126 ...\n",
      " $ SLG      : num  NaN 0 NaN 0 NaN ...\n"
     ]
    }
   ],
   "source": [
    "#Check data frame:\n",
    "str(batting)"
   ]
  },
  {
   "cell_type": "markdown",
   "metadata": {},
   "source": [
    "## Merging Salary Data with Batting Data\n",
    "Now that we have the data frame ready to find the best players, we want to be able to find the best players that are the most *undervalued*. <br><br>\n",
    "The salary information can be found in the csv file 'Salaries.csv'"
   ]
  },
  {
   "cell_type": "markdown",
   "metadata": {},
   "source": [
    "**Load Salaries.csv file into data frame**"
   ]
  },
  {
   "cell_type": "code",
   "execution_count": 7,
   "metadata": {
    "collapsed": false
   },
   "outputs": [
    {
     "data": {
      "text/html": [
       "<table>\n",
       "<thead><tr><th></th><th scope=col>yearID</th><th scope=col>teamID</th><th scope=col>lgID</th><th scope=col>playerID</th><th scope=col>salary</th></tr></thead>\n",
       "<tbody>\n",
       "\t<tr><th scope=row>1</th><td>1985     </td><td>BAL      </td><td>AL       </td><td>murraed02</td><td>1472819  </td></tr>\n",
       "\t<tr><th scope=row>2</th><td>1985    </td><td>BAL     </td><td>AL      </td><td>lynnfr01</td><td>1090000 </td></tr>\n",
       "\t<tr><th scope=row>3</th><td>1985     </td><td>BAL      </td><td>AL       </td><td>ripkeca01</td><td>800000   </td></tr>\n",
       "\t<tr><th scope=row>4</th><td>1985    </td><td>BAL     </td><td>AL      </td><td>lacyle01</td><td>725000  </td></tr>\n",
       "\t<tr><th scope=row>5</th><td>1985     </td><td>BAL      </td><td>AL       </td><td>flanami01</td><td>641667   </td></tr>\n",
       "\t<tr><th scope=row>6</th><td>1985     </td><td>BAL      </td><td>AL       </td><td>boddimi01</td><td>625000   </td></tr>\n",
       "</tbody>\n",
       "</table>\n"
      ],
      "text/latex": [
       "\\begin{tabular}{r|lllll}\n",
       "  & yearID & teamID & lgID & playerID & salary\\\\\n",
       "\\hline\n",
       "\t1 & 1985      & BAL       & AL        & murraed02 & 1472819  \\\\\n",
       "\t2 & 1985     & BAL      & AL       & lynnfr01 & 1090000 \\\\\n",
       "\t3 & 1985      & BAL       & AL        & ripkeca01 & 800000   \\\\\n",
       "\t4 & 1985     & BAL      & AL       & lacyle01 & 725000  \\\\\n",
       "\t5 & 1985      & BAL       & AL        & flanami01 & 641667   \\\\\n",
       "\t6 & 1985      & BAL       & AL        & boddimi01 & 625000   \\\\\n",
       "\\end{tabular}\n"
      ],
      "text/plain": [
       "  yearID teamID lgID  playerID  salary\n",
       "1   1985    BAL   AL murraed02 1472819\n",
       "2   1985    BAL   AL  lynnfr01 1090000\n",
       "3   1985    BAL   AL ripkeca01  800000\n",
       "4   1985    BAL   AL  lacyle01  725000\n",
       "5   1985    BAL   AL flanami01  641667\n",
       "6   1985    BAL   AL boddimi01  625000"
      ]
     },
     "metadata": {},
     "output_type": "display_data"
    }
   ],
   "source": [
    "sal <- read.csv('Salaries.csv')\n",
    "head(sal)"
   ]
  },
  {
   "cell_type": "markdown",
   "metadata": {},
   "source": [
    "**Comparing our batting data frame with the salaries one, the batting data frame goes back to 1871 while the salaries start in 1985. Subset the data:**"
   ]
  },
  {
   "cell_type": "code",
   "execution_count": 8,
   "metadata": {
    "collapsed": false
   },
   "outputs": [
    {
     "data": {
      "text/plain": [
       "      playerID         yearID         stint           teamID        lgID      \n",
       " mcguide01:   31   Min.   :1871   Min.   :1.000   CHN    : 4720   AA  : 1890  \n",
       " henderi01:   29   1st Qu.:1931   1st Qu.:1.000   PHI    : 4621   AL  :44369  \n",
       " newsobo01:   29   Median :1970   Median :1.000   PIT    : 4575   FL  :  470  \n",
       " johnto01 :   28   Mean   :1962   Mean   :1.077   SLN    : 4535   NL  :49944  \n",
       " kaatji01 :   28   3rd Qu.:1995   3rd Qu.:1.000   CIN    : 4393   PL  :  147  \n",
       " ansonca01:   27   Max.   :2013   Max.   :5.000   CLE    : 4318   UA  :  332  \n",
       " (Other)  :97717                                  (Other):70727   NA's:  737  \n",
       "       G            G_batting            AB              R         \n",
       " Min.   :  1.00   Min.   :  0.00   Min.   :  0.0   Min.   :  0.00  \n",
       " 1st Qu.: 13.00   1st Qu.:  7.00   1st Qu.:  9.0   1st Qu.:  0.00  \n",
       " Median : 35.00   Median : 32.00   Median : 61.0   Median :  5.00  \n",
       " Mean   : 51.65   Mean   : 49.13   Mean   :154.1   Mean   : 20.47  \n",
       " 3rd Qu.: 81.00   3rd Qu.: 81.00   3rd Qu.:260.0   3rd Qu.: 31.00  \n",
       " Max.   :165.00   Max.   :165.00   Max.   :716.0   Max.   :192.00  \n",
       "                  NA's   :1406     NA's   :6413    NA's   :6413    \n",
       "       H               X2B            X3B               HR        \n",
       " Min.   :  0.00   Min.   : 0.0   Min.   : 0.000   Min.   : 0.000  \n",
       " 1st Qu.:  1.00   1st Qu.: 0.0   1st Qu.: 0.000   1st Qu.: 0.000  \n",
       " Median : 12.00   Median : 2.0   Median : 0.000   Median : 0.000  \n",
       " Mean   : 40.37   Mean   : 6.8   Mean   : 1.424   Mean   : 3.002  \n",
       " 3rd Qu.: 66.00   3rd Qu.:10.0   3rd Qu.: 2.000   3rd Qu.: 3.000  \n",
       " Max.   :262.00   Max.   :67.0   Max.   :36.000   Max.   :73.000  \n",
       " NA's   :6413     NA's   :6413   NA's   :6413     NA's   :6413    \n",
       "      RBI               SB                CS               BB        \n",
       " Min.   :  0.00   Min.   :  0.000   Min.   : 0.000   Min.   :  0.00  \n",
       " 1st Qu.:  0.00   1st Qu.:  0.000   1st Qu.: 0.000   1st Qu.:  0.00  \n",
       " Median :  5.00   Median :  0.000   Median : 0.000   Median :  4.00  \n",
       " Mean   : 18.47   Mean   :  3.265   Mean   : 1.385   Mean   : 14.21  \n",
       " 3rd Qu.: 28.00   3rd Qu.:  2.000   3rd Qu.: 1.000   3rd Qu.: 21.00  \n",
       " Max.   :191.00   Max.   :138.000   Max.   :42.000   Max.   :232.00  \n",
       " NA's   :6837     NA's   :7713      NA's   :29867    NA's   :6413    \n",
       "       SO              IBB              HBP               SH        \n",
       " Min.   :  0.00   Min.   :  0.00   Min.   : 0.000   Min.   : 0.000  \n",
       " 1st Qu.:  2.00   1st Qu.:  0.00   1st Qu.: 0.000   1st Qu.: 0.000  \n",
       " Median : 11.00   Median :  0.00   Median : 0.000   Median : 1.000  \n",
       " Mean   : 21.95   Mean   :  1.28   Mean   : 1.136   Mean   : 2.564  \n",
       " 3rd Qu.: 31.00   3rd Qu.:  1.00   3rd Qu.: 1.000   3rd Qu.: 3.000  \n",
       " Max.   :223.00   Max.   :120.00   Max.   :51.000   Max.   :67.000  \n",
       " NA's   :14251    NA's   :42977    NA's   :9233     NA's   :12751   \n",
       "       SF             GIDP           G_old              BA       \n",
       " Min.   : 0.0    Min.   : 0.00   Min.   :  0.00   Min.   :0.000  \n",
       " 1st Qu.: 0.0    1st Qu.: 0.00   1st Qu.: 11.00   1st Qu.:0.148  \n",
       " Median : 0.0    Median : 1.00   Median : 34.00   Median :0.231  \n",
       " Mean   : 1.2    Mean   : 3.33   Mean   : 50.99   Mean   :0.209  \n",
       " 3rd Qu.: 2.0    3rd Qu.: 5.00   3rd Qu.: 82.00   3rd Qu.:0.275  \n",
       " Max.   :19.0    Max.   :36.00   Max.   :165.00   Max.   :1.000  \n",
       " NA's   :42446   NA's   :32521   NA's   :5189     NA's   :13520  \n",
       "      OBP             X1B              SLG       \n",
       " Min.   :0.00    Min.   :  0.00   Min.   :0.000  \n",
       " 1st Qu.:0.19    1st Qu.:  1.00   1st Qu.:0.179  \n",
       " Median :0.29    Median :  9.00   Median :0.309  \n",
       " Mean   :0.26    Mean   : 29.14   Mean   :0.291  \n",
       " 3rd Qu.:0.34    3rd Qu.: 48.00   3rd Qu.:0.397  \n",
       " Max.   :1.00    Max.   :225.00   Max.   :4.000  \n",
       " NA's   :49115   NA's   :6413     NA's   :13520  "
      ]
     },
     "metadata": {},
     "output_type": "display_data"
    }
   ],
   "source": [
    "summary(batting)"
   ]
  },
  {
   "cell_type": "code",
   "execution_count": 9,
   "metadata": {
    "collapsed": true
   },
   "outputs": [],
   "source": [
    "#Subset batting data to start from 1875 to match with salaries\n",
    "batting <- subset(batting,yearID >=1985)"
   ]
  },
  {
   "cell_type": "code",
   "execution_count": 10,
   "metadata": {
    "collapsed": false
   },
   "outputs": [
    {
     "data": {
      "text/plain": [
       "      playerID         yearID         stint          teamID      lgID      \n",
       " moyerja01:   27   Min.   :1985   Min.   :1.00   SDN    : 1313   AA:    0  \n",
       " mulhote01:   26   1st Qu.:1993   1st Qu.:1.00   CLE    : 1306   AL:17226  \n",
       " weathda01:   26   Median :2000   Median :1.00   PIT    : 1299   FL:    0  \n",
       " maddugr01:   25   Mean   :2000   Mean   :1.08   NYN    : 1297   NL:18426  \n",
       " sierrru01:   25   3rd Qu.:2007   3rd Qu.:1.00   BOS    : 1279   PL:    0  \n",
       " thomeji01:   25   Max.   :2013   Max.   :4.00   CIN    : 1279   UA:    0  \n",
       " (Other)  :35498                                 (Other):27879             \n",
       "       G           G_batting            AB              R         \n",
       " Min.   :  1.0   Min.   :  0.00   Min.   :  0.0   Min.   :  0.00  \n",
       " 1st Qu.: 14.0   1st Qu.:  4.00   1st Qu.:  3.0   1st Qu.:  0.00  \n",
       " Median : 34.0   Median : 27.00   Median : 47.0   Median :  4.00  \n",
       " Mean   : 51.7   Mean   : 46.28   Mean   :144.7   Mean   : 19.44  \n",
       " 3rd Qu.: 77.0   3rd Qu.: 77.00   3rd Qu.:241.0   3rd Qu.: 30.00  \n",
       " Max.   :163.0   Max.   :163.00   Max.   :716.0   Max.   :152.00  \n",
       "                 NA's   :1406     NA's   :4377    NA's   :4377    \n",
       "       H               X2B              X3B               HR        \n",
       " Min.   :  0.00   Min.   : 0.000   Min.   : 0.000   Min.   : 0.000  \n",
       " 1st Qu.:  0.00   1st Qu.: 0.000   1st Qu.: 0.000   1st Qu.: 0.000  \n",
       " Median :  8.00   Median : 1.000   Median : 0.000   Median : 0.000  \n",
       " Mean   : 37.95   Mean   : 7.293   Mean   : 0.824   Mean   : 4.169  \n",
       " 3rd Qu.: 61.00   3rd Qu.:11.000   3rd Qu.: 1.000   3rd Qu.: 5.000  \n",
       " Max.   :262.00   Max.   :59.000   Max.   :23.000   Max.   :73.000  \n",
       " NA's   :4377     NA's   :4377     NA's   :4377     NA's   :4377    \n",
       "      RBI               SB                CS               BB        \n",
       " Min.   :  0.00   Min.   :  0.000   Min.   : 0.000   Min.   :  0.00  \n",
       " 1st Qu.:  0.00   1st Qu.:  0.000   1st Qu.: 0.000   1st Qu.:  0.00  \n",
       " Median :  3.00   Median :  0.000   Median : 0.000   Median :  3.00  \n",
       " Mean   : 18.41   Mean   :  2.811   Mean   : 1.219   Mean   : 14.06  \n",
       " 3rd Qu.: 27.00   3rd Qu.:  2.000   3rd Qu.: 1.000   3rd Qu.: 21.00  \n",
       " Max.   :165.00   Max.   :110.000   Max.   :29.000   Max.   :232.00  \n",
       " NA's   :4377     NA's   :4377      NA's   :4377     NA's   :4377    \n",
       "       SO              IBB               HBP               SH        \n",
       " Min.   :  0.00   Min.   :  0.000   Min.   : 0.000   Min.   : 0.000  \n",
       " 1st Qu.:  1.00   1st Qu.:  0.000   1st Qu.: 0.000   1st Qu.: 0.000  \n",
       " Median : 12.00   Median :  0.000   Median : 0.000   Median : 0.000  \n",
       " Mean   : 27.03   Mean   :  1.171   Mean   : 1.273   Mean   : 1.465  \n",
       " 3rd Qu.: 42.00   3rd Qu.:  1.000   3rd Qu.: 1.000   3rd Qu.: 2.000  \n",
       " Max.   :223.00   Max.   :120.000   Max.   :35.000   Max.   :39.000  \n",
       " NA's   :4377     NA's   :4378      NA's   :4387     NA's   :4377    \n",
       "       SF              GIDP           G_old             BA       \n",
       " Min.   : 0.000   Min.   : 0.00   Min.   :  0.0   Min.   :0.000  \n",
       " 1st Qu.: 0.000   1st Qu.: 0.00   1st Qu.: 11.0   1st Qu.:0.136  \n",
       " Median : 0.000   Median : 1.00   Median : 32.0   Median :0.233  \n",
       " Mean   : 1.212   Mean   : 3.25   Mean   : 49.7   Mean   :0.205  \n",
       " 3rd Qu.: 2.000   3rd Qu.: 5.00   3rd Qu.: 77.0   3rd Qu.:0.274  \n",
       " Max.   :17.000   Max.   :35.00   Max.   :163.0   Max.   :1.000  \n",
       " NA's   :4378     NA's   :4377    NA's   :5189    NA's   :8905   \n",
       "      OBP             X1B              SLG       \n",
       " Min.   :0.000   Min.   :  0.00   Min.   :0.000  \n",
       " 1st Qu.:0.188   1st Qu.:  0.00   1st Qu.:0.167  \n",
       " Median :0.296   Median :  6.00   Median :0.333  \n",
       " Mean   :0.262   Mean   : 25.66   Mean   :0.304  \n",
       " 3rd Qu.:0.342   3rd Qu.: 42.00   3rd Qu.:0.423  \n",
       " Max.   :1.000   Max.   :225.00   Max.   :4.000  \n",
       " NA's   :8821    NA's   :4377     NA's   :8905   "
      ]
     },
     "metadata": {},
     "output_type": "display_data"
    }
   ],
   "source": [
    "#Check that yearID min is now 1985\n",
    "summary(batting)"
   ]
  },
  {
   "cell_type": "markdown",
   "metadata": {},
   "source": [
    "**Merge the batting and sal data frames on both players and years. Multiple players play multiple years**"
   ]
  },
  {
   "cell_type": "code",
   "execution_count": 14,
   "metadata": {
    "collapsed": true
   },
   "outputs": [],
   "source": [
    "#Create new data frame merged on both playerID and yearID:\n",
    "batting.sal <- merge(batting,sal,by=c('playerID','yearID'))"
   ]
  },
  {
   "cell_type": "code",
   "execution_count": 15,
   "metadata": {
    "collapsed": false
   },
   "outputs": [
    {
     "data": {
      "text/html": [
       "<table>\n",
       "<thead><tr><th></th><th scope=col>playerID</th><th scope=col>yearID</th><th scope=col>stint</th><th scope=col>teamID.x</th><th scope=col>lgID.x</th><th scope=col>G</th><th scope=col>G_batting</th><th scope=col>AB</th><th scope=col>R</th><th scope=col>H</th><th scope=col>⋯</th><th scope=col>SF</th><th scope=col>GIDP</th><th scope=col>G_old</th><th scope=col>BA</th><th scope=col>OBP</th><th scope=col>X1B</th><th scope=col>SLG</th><th scope=col>teamID.y</th><th scope=col>lgID.y</th><th scope=col>salary</th></tr></thead>\n",
       "<tbody>\n",
       "\t<tr><th scope=row>1</th><td>aardsda01</td><td>2004     </td><td>1        </td><td>SFN      </td><td>NL       </td><td>11       </td><td>11       </td><td>0        </td><td>0        </td><td>0        </td><td>⋯        </td><td>0        </td><td>0        </td><td>11       </td><td>NaN      </td><td>NaN      </td><td>0        </td><td>NaN      </td><td>SFN      </td><td>NL       </td><td>3e+05    </td></tr>\n",
       "\t<tr><th scope=row>2</th><td>aardsda01</td><td>2007     </td><td>1        </td><td>CHA      </td><td>AL       </td><td>25       </td><td>2        </td><td>0        </td><td>0        </td><td>0        </td><td>⋯        </td><td>0        </td><td>0        </td><td>2        </td><td>NaN      </td><td>NaN      </td><td>0        </td><td>NaN      </td><td>CHA      </td><td>AL       </td><td>387500   </td></tr>\n",
       "\t<tr><th scope=row>3</th><td>aardsda01</td><td>2008     </td><td>1        </td><td>BOS      </td><td>AL       </td><td>47       </td><td>5        </td><td>1        </td><td>0        </td><td>0        </td><td>⋯        </td><td>0        </td><td>0        </td><td>5        </td><td>0        </td><td>0        </td><td>0        </td><td>0        </td><td>BOS      </td><td>AL       </td><td>403250   </td></tr>\n",
       "\t<tr><th scope=row>4</th><td>aardsda01</td><td>2009     </td><td>1        </td><td>SEA      </td><td>AL       </td><td>73       </td><td>3        </td><td>0        </td><td>0        </td><td>0        </td><td>⋯        </td><td>0        </td><td>0        </td><td>NA       </td><td>NaN      </td><td>NaN      </td><td>0        </td><td>NaN      </td><td>SEA      </td><td>AL       </td><td>419000   </td></tr>\n",
       "\t<tr><th scope=row>5</th><td>aardsda01</td><td>2010     </td><td>1        </td><td>SEA      </td><td>AL       </td><td>53       </td><td>4        </td><td>0        </td><td>0        </td><td>0        </td><td>⋯        </td><td>0        </td><td>0        </td><td>NA       </td><td>NaN      </td><td>NaN      </td><td>0        </td><td>NaN      </td><td>SEA      </td><td>AL       </td><td>2750000  </td></tr>\n",
       "\t<tr><th scope=row>6</th><td>aardsda01</td><td>2012     </td><td>1        </td><td>NYA      </td><td>AL       </td><td>1        </td><td>NA       </td><td>NA       </td><td>NA       </td><td>NA       </td><td>⋯        </td><td>NA       </td><td>NA       </td><td>NA       </td><td>NA       </td><td>NA       </td><td>NA       </td><td>NA       </td><td>NYA      </td><td>AL       </td><td>5e+05    </td></tr>\n",
       "</tbody>\n",
       "</table>\n"
      ],
      "text/latex": [
       "\\begin{tabular}{r|lllllllllllllllllllllllllllllll}\n",
       "  & playerID & yearID & stint & teamID.x & lgID.x & G & G\\_batting & AB & R & H & ⋯ & SF & GIDP & G\\_old & BA & OBP & X1B & SLG & teamID.y & lgID.y & salary\\\\\n",
       "\\hline\n",
       "\t1 & aardsda01 & 2004      & 1         & SFN       & NL        & 11        & 11        & 0         & 0         & 0         & ⋯         & 0         & 0         & 11        & NaN       & NaN       & 0         & NaN       & SFN       & NL        & 3e+05    \\\\\n",
       "\t2 & aardsda01 & 2007      & 1         & CHA       & AL        & 25        & 2         & 0         & 0         & 0         & ⋯         & 0         & 0         & 2         & NaN       & NaN       & 0         & NaN       & CHA       & AL        & 387500   \\\\\n",
       "\t3 & aardsda01 & 2008      & 1         & BOS       & AL        & 47        & 5         & 1         & 0         & 0         & ⋯         & 0         & 0         & 5         & 0         & 0         & 0         & 0         & BOS       & AL        & 403250   \\\\\n",
       "\t4 & aardsda01 & 2009      & 1         & SEA       & AL        & 73        & 3         & 0         & 0         & 0         & ⋯         & 0         & 0         & NA        & NaN       & NaN       & 0         & NaN       & SEA       & AL        & 419000   \\\\\n",
       "\t5 & aardsda01 & 2010      & 1         & SEA       & AL        & 53        & 4         & 0         & 0         & 0         & ⋯         & 0         & 0         & NA        & NaN       & NaN       & 0         & NaN       & SEA       & AL        & 2750000  \\\\\n",
       "\t6 & aardsda01 & 2012      & 1         & NYA       & AL        & 1         & NA        & NA        & NA        & NA        & ⋯         & NA        & NA        & NA        & NA        & NA        & NA        & NA        & NYA       & AL        & 5e+05    \\\\\n",
       "\\end{tabular}\n"
      ],
      "text/plain": [
       "   playerID yearID stint teamID.x lgID.x  G G_batting AB  R  H ⋯ SF GIDP G_old\n",
       "1 aardsda01   2004     1      SFN     NL 11        11  0  0  0 ⋯  0    0    11\n",
       "2 aardsda01   2007     1      CHA     AL 25         2  0  0  0 ⋯  0    0     2\n",
       "3 aardsda01   2008     1      BOS     AL 47         5  1  0  0 ⋯  0    0     5\n",
       "4 aardsda01   2009     1      SEA     AL 73         3  0  0  0 ⋯  0    0    NA\n",
       "5 aardsda01   2010     1      SEA     AL 53         4  0  0  0 ⋯  0    0    NA\n",
       "6 aardsda01   2012     1      NYA     AL  1        NA NA NA NA ⋯ NA   NA    NA\n",
       "   BA OBP X1B SLG teamID.y lgID.y  salary\n",
       "1 NaN NaN   0 NaN      SFN     NL  300000\n",
       "2 NaN NaN   0 NaN      CHA     AL  387500\n",
       "3   0   0   0   0      BOS     AL  403250\n",
       "4 NaN NaN   0 NaN      SEA     AL  419000\n",
       "5 NaN NaN   0 NaN      SEA     AL 2750000\n",
       "6  NA  NA  NA  NA      NYA     AL  500000"
      ]
     },
     "metadata": {},
     "output_type": "display_data"
    },
    {
     "data": {
      "text/plain": [
       "      playerID         yearID         stint          teamID.x     lgID.x    \n",
       " moyerja01:   27   Min.   :1985   Min.   :1.000   LAN    :  940   AA:    0  \n",
       " thomeji01:   25   1st Qu.:1993   1st Qu.:1.000   PHI    :  937   AL:12292  \n",
       " weathda01:   25   Median :1999   Median :1.000   BOS    :  935   FL:    0  \n",
       " vizquom01:   24   Mean   :1999   Mean   :1.098   NYA    :  928   NL:13105  \n",
       " gaettga01:   23   3rd Qu.:2006   3rd Qu.:1.000   CLE    :  920   PL:    0  \n",
       " griffke02:   23   Max.   :2013   Max.   :4.000   SDN    :  914   UA:    0  \n",
       " (Other)  :25250                                  (Other):19823             \n",
       "       G            G_batting            AB              R         \n",
       " Min.   :  1.00   Min.   :  0.00   Min.   :  0.0   Min.   :  0.00  \n",
       " 1st Qu.: 26.00   1st Qu.:  8.00   1st Qu.:  5.0   1st Qu.:  0.00  \n",
       " Median : 50.00   Median : 42.00   Median : 85.0   Median :  9.00  \n",
       " Mean   : 64.06   Mean   : 57.58   Mean   :182.4   Mean   : 24.71  \n",
       " 3rd Qu.:101.00   3rd Qu.:101.00   3rd Qu.:336.0   3rd Qu.: 43.00  \n",
       " Max.   :163.00   Max.   :163.00   Max.   :716.0   Max.   :152.00  \n",
       "                  NA's   :906      NA's   :2661    NA's   :2661    \n",
       "       H               X2B              X3B               HR        \n",
       " Min.   :  0.00   Min.   : 0.000   Min.   : 0.000   Min.   : 0.000  \n",
       " 1st Qu.:  1.00   1st Qu.: 0.000   1st Qu.: 0.000   1st Qu.: 0.000  \n",
       " Median : 19.00   Median : 3.000   Median : 0.000   Median : 1.000  \n",
       " Mean   : 48.18   Mean   : 9.276   Mean   : 1.033   Mean   : 5.369  \n",
       " 3rd Qu.: 87.25   3rd Qu.:16.000   3rd Qu.: 1.000   3rd Qu.: 7.000  \n",
       " Max.   :262.00   Max.   :59.000   Max.   :23.000   Max.   :73.000  \n",
       " NA's   :2661     NA's   :2661     NA's   :2661     NA's   :2661    \n",
       "      RBI               SB                CS              BB        \n",
       " Min.   :  0.00   Min.   :  0.000   Min.   : 0.00   Min.   :  0.00  \n",
       " 1st Qu.:  0.00   1st Qu.:  0.000   1st Qu.: 0.00   1st Qu.:  0.00  \n",
       " Median :  8.00   Median :  0.000   Median : 0.00   Median :  6.00  \n",
       " Mean   : 23.56   Mean   :  3.568   Mean   : 1.54   Mean   : 17.98  \n",
       " 3rd Qu.: 39.00   3rd Qu.:  3.000   3rd Qu.: 2.00   3rd Qu.: 29.00  \n",
       " Max.   :165.00   Max.   :110.000   Max.   :29.00   Max.   :232.00  \n",
       " NA's   :2661     NA's   :2661      NA's   :2661    NA's   :2661    \n",
       "       SO              IBB               HBP               SH        \n",
       " Min.   :  0.00   Min.   :  0.000   Min.   : 0.000   Min.   : 0.000  \n",
       " 1st Qu.:  2.00   1st Qu.:  0.000   1st Qu.: 0.000   1st Qu.: 0.000  \n",
       " Median : 20.00   Median :  0.000   Median : 0.000   Median : 0.000  \n",
       " Mean   : 33.52   Mean   :  1.533   Mean   : 1.614   Mean   : 1.786  \n",
       " 3rd Qu.: 55.00   3rd Qu.:  2.000   3rd Qu.: 2.000   3rd Qu.: 2.000  \n",
       " Max.   :223.00   Max.   :120.000   Max.   :35.000   Max.   :39.000  \n",
       " NA's   :2661     NA's   :2662      NA's   :2670     NA's   :2661    \n",
       "       SF              GIDP            G_old              BA       \n",
       " Min.   : 0.000   Min.   : 0.000   Min.   :  0.00   Min.   :0.000  \n",
       " 1st Qu.: 0.000   1st Qu.: 0.000   1st Qu.: 20.00   1st Qu.:0.160  \n",
       " Median : 0.000   Median : 2.000   Median : 47.00   Median :0.242  \n",
       " Mean   : 1.554   Mean   : 4.127   Mean   : 61.43   Mean   :0.212  \n",
       " 3rd Qu.: 2.000   3rd Qu.: 7.000   3rd Qu.:101.00   3rd Qu.:0.276  \n",
       " Max.   :17.000   Max.   :35.000   Max.   :163.00   Max.   :1.000  \n",
       " NA's   :2662     NA's   :2661     NA's   :3414     NA's   :5618   \n",
       "      OBP             X1B             SLG           teamID.y     lgID.y    \n",
       " Min.   :0.000   Min.   :  0.0   Min.   :0.000   CLE    :  935   AL:12304  \n",
       " 1st Qu.:0.208   1st Qu.:  0.0   1st Qu.:0.200   PIT    :  932   NL:13093  \n",
       " Median :0.305   Median : 13.0   Median :0.351   PHI    :  931             \n",
       " Mean   :0.270   Mean   : 32.5   Mean   :0.317   SDN    :  923             \n",
       " 3rd Qu.:0.346   3rd Qu.: 59.0   3rd Qu.:0.432   LAN    :  921             \n",
       " Max.   :1.000   Max.   :225.0   Max.   :4.000   CIN    :  912             \n",
       " NA's   :5562    NA's   :2661    NA's   :5618    (Other):19843             \n",
       "     salary        \n",
       " Min.   :       0  \n",
       " 1st Qu.:  255000  \n",
       " Median :  550000  \n",
       " Mean   : 1879256  \n",
       " 3rd Qu.: 2150000  \n",
       " Max.   :33000000  \n",
       "                   "
      ]
     },
     "metadata": {},
     "output_type": "display_data"
    }
   ],
   "source": [
    "head(batting.sal)\n",
    "summary(batting.sal)"
   ]
  },
  {
   "cell_type": "markdown",
   "metadata": {},
   "source": [
    "## The Lost Boys\n",
    "The Oakland A's lost 3 important players, known as the lost boys. We want to see their stats to get an idea of what we have to replace. The lost players were: first baseman 2000 AL MVP Jason Giambi (giambja01) to the New York Yankees, outfielder Johnny Damon (damonjo01) to the Boston Red Sox and infielder Rainer Gustavo \"Ray\" Olmedo ('saenzol01').<br><br>\n",
    "**Create a new data frame called lost.boys for these 3 players.**"
   ]
  },
  {
   "cell_type": "code",
   "execution_count": 22,
   "metadata": {
    "collapsed": false
   },
   "outputs": [],
   "source": [
    "#Data frame for the lost players: giambja01, damonjo01, saenzol01:\n",
    "lost.boys.id <- c('giambja01', 'damonjo01', 'saenzol01')\n",
    "lost.boys <- subset(batting.sal,playerID %in% lost.boys.id)"
   ]
  },
  {
   "cell_type": "code",
   "execution_count": 20,
   "metadata": {
    "collapsed": false
   },
   "outputs": [
    {
     "data": {
      "text/html": [
       "<table>\n",
       "<thead><tr><th></th><th scope=col>playerID</th><th scope=col>yearID</th><th scope=col>stint</th><th scope=col>teamID.x</th><th scope=col>lgID.x</th><th scope=col>G</th><th scope=col>G_batting</th><th scope=col>AB</th><th scope=col>R</th><th scope=col>H</th><th scope=col>⋯</th><th scope=col>SF</th><th scope=col>GIDP</th><th scope=col>G_old</th><th scope=col>BA</th><th scope=col>OBP</th><th scope=col>X1B</th><th scope=col>SLG</th><th scope=col>teamID.y</th><th scope=col>lgID.y</th><th scope=col>salary</th></tr></thead>\n",
       "<tbody>\n",
       "\t<tr><th scope=row>5135</th><td>damonjo01        </td><td>1995             </td><td>1                </td><td>KCA              </td><td>AL               </td><td>47               </td><td>47               </td><td>188              </td><td>32               </td><td>53               </td><td>⋯                </td><td>3                </td><td>2                </td><td>47               </td><td>0.281914893617021</td><td>0.323529411764706</td><td>34               </td><td>0.441489361702128</td><td>KCA              </td><td>AL               </td><td>109000           </td></tr>\n",
       "\t<tr><th scope=row>5136</th><td>damonjo01        </td><td>1996             </td><td>1                </td><td>KCA              </td><td>AL               </td><td>145              </td><td>145              </td><td>517              </td><td>61               </td><td>140              </td><td>⋯                </td><td>5                </td><td>4                </td><td>145              </td><td>0.270793036750484</td><td>0.31294964028777 </td><td>107              </td><td>0.367504835589942</td><td>KCA              </td><td>AL               </td><td>180000           </td></tr>\n",
       "\t<tr><th scope=row>5137</th><td>damonjo01        </td><td>1997             </td><td>1                </td><td>KCA              </td><td>AL               </td><td>146              </td><td>146              </td><td>472              </td><td>70               </td><td>130              </td><td>⋯                </td><td>1                </td><td>3                </td><td>146              </td><td>0.275423728813559</td><td>0.337837837837838</td><td>102              </td><td>0.385593220338983</td><td>KCA              </td><td>AL               </td><td>240000           </td></tr>\n",
       "\t<tr><th scope=row>5138</th><td>damonjo01        </td><td>1998             </td><td>1                </td><td>KCA              </td><td>AL               </td><td>161              </td><td>161              </td><td>642              </td><td>104              </td><td>178              </td><td>⋯                </td><td>3                </td><td>4                </td><td>161              </td><td>0.277258566978193</td><td>0.339462517680339</td><td>120              </td><td>0.439252336448598</td><td>KCA              </td><td>AL               </td><td>460000           </td></tr>\n",
       "\t<tr><th scope=row>5139</th><td>damonjo01        </td><td>1999             </td><td>1                </td><td>KCA              </td><td>AL               </td><td>145              </td><td>145              </td><td>583              </td><td>101              </td><td>179              </td><td>⋯                </td><td>4                </td><td>13               </td><td>145              </td><td>0.307032590051458</td><td>0.378995433789954</td><td>117              </td><td>0.476843910806175</td><td>KCA              </td><td>AL               </td><td>2100000          </td></tr>\n",
       "\t<tr><th scope=row>5140</th><td>damonjo01        </td><td>2000             </td><td>1                </td><td>KCA              </td><td>AL               </td><td>159              </td><td>159              </td><td>655              </td><td>136              </td><td>214              </td><td>⋯                </td><td>12               </td><td>7                </td><td>159              </td><td>0.326717557251908</td><td>0.381991814461119</td><td>146              </td><td>0.494656488549618</td><td>KCA              </td><td>AL               </td><td>4e+06            </td></tr>\n",
       "\t<tr><th scope=row>5141</th><td>damonjo01        </td><td>2001             </td><td>1                </td><td>OAK              </td><td>AL               </td><td>155              </td><td>155              </td><td>644              </td><td>108              </td><td>165              </td><td>⋯                </td><td>4                </td><td>7                </td><td>155              </td><td>0.256211180124224</td><td>0.323529411764706</td><td>118              </td><td>0.363354037267081</td><td>OAK              </td><td>AL               </td><td>7100000          </td></tr>\n",
       "\t<tr><th scope=row>5142</th><td>damonjo01        </td><td>2002             </td><td>1                </td><td>BOS              </td><td>AL               </td><td>154              </td><td>154              </td><td>623              </td><td>118              </td><td>178              </td><td>⋯                </td><td>5                </td><td>4                </td><td>154              </td><td>0.285714285714286</td><td>0.356223175965665</td><td>119              </td><td>0.443017656500803</td><td>BOS              </td><td>AL               </td><td>7250000          </td></tr>\n",
       "\t<tr><th scope=row>5143</th><td>damonjo01        </td><td>2003             </td><td>1                </td><td>BOS              </td><td>AL               </td><td>145              </td><td>145              </td><td>608              </td><td>103              </td><td>166              </td><td>⋯                </td><td>6                </td><td>5                </td><td>145              </td><td>0.273026315789474</td><td>0.345029239766082</td><td>116              </td><td>0.404605263157895</td><td>BOS              </td><td>AL               </td><td>7500000          </td></tr>\n",
       "\t<tr><th scope=row>5144</th><td>damonjo01        </td><td>2004             </td><td>1                </td><td>BOS              </td><td>AL               </td><td>150              </td><td>150              </td><td>621              </td><td>123              </td><td>189              </td><td>⋯                </td><td>3                </td><td>8                </td><td>150              </td><td>0.304347826086957</td><td>0.38034188034188 </td><td>128              </td><td>0.476650563607085</td><td>BOS              </td><td>AL               </td><td>8e+06            </td></tr>\n",
       "\t<tr><th scope=row>5145</th><td>damonjo01        </td><td>2005             </td><td>1                </td><td>BOS              </td><td>AL               </td><td>148              </td><td>148              </td><td>624              </td><td>117              </td><td>197              </td><td>⋯                </td><td>9                </td><td>5                </td><td>148              </td><td>0.315705128205128</td><td>0.366279069767442</td><td>146              </td><td>0.439102564102564</td><td>BOS              </td><td>AL               </td><td>8250000          </td></tr>\n",
       "\t<tr><th scope=row>5146</th><td>damonjo01        </td><td>2006             </td><td>1                </td><td>NYA              </td><td>AL               </td><td>149              </td><td>149              </td><td>593              </td><td>115              </td><td>169              </td><td>⋯                </td><td>5                </td><td>4                </td><td>149              </td><td>0.284991568296796</td><td>0.358744394618834</td><td>105              </td><td>0.482293423271501</td><td>NYA              </td><td>AL               </td><td>1.3e+07          </td></tr>\n",
       "\t<tr><th scope=row>5147</th><td>damonjo01        </td><td>2007             </td><td>1                </td><td>NYA              </td><td>AL               </td><td>141              </td><td>141              </td><td>533              </td><td>93               </td><td>144              </td><td>⋯                </td><td>3                </td><td>4                </td><td>141              </td><td>0.270168855534709</td><td>0.350993377483444</td><td>103              </td><td>0.395872420262664</td><td>NYA              </td><td>AL               </td><td>1.3e+07          </td></tr>\n",
       "\t<tr><th scope=row>5148</th><td>damonjo01        </td><td>2008             </td><td>1                </td><td>NYA              </td><td>AL               </td><td>143              </td><td>143              </td><td>555              </td><td>95               </td><td>168              </td><td>⋯                </td><td>1                </td><td>5                </td><td>143              </td><td>0.302702702702703</td><td>0.375201288244767</td><td>119              </td><td>0.461261261261261</td><td>NYA              </td><td>AL               </td><td>1.3e+07          </td></tr>\n",
       "\t<tr><th scope=row>5149</th><td>damonjo01        </td><td>2009             </td><td>1                </td><td>NYA              </td><td>AL               </td><td>143              </td><td>143              </td><td>550              </td><td>107              </td><td>155              </td><td>⋯                </td><td>1                </td><td>9                </td><td>NA               </td><td>0.281818181818182</td><td>0.365384615384615</td><td>92               </td><td>0.489090909090909</td><td>NYA              </td><td>AL               </td><td>1.3e+07          </td></tr>\n",
       "\t<tr><th scope=row>5150</th><td>damonjo01        </td><td>2010             </td><td>1                </td><td>DET              </td><td>AL               </td><td>145              </td><td>145              </td><td>539              </td><td>81               </td><td>146              </td><td>⋯                </td><td>1                </td><td>5                </td><td>NA               </td><td>0.270871985157699</td><td>0.355155482815057</td><td>97               </td><td>0.400742115027829</td><td>DET              </td><td>AL               </td><td>8e+06            </td></tr>\n",
       "\t<tr><th scope=row>5151</th><td>damonjo01        </td><td>2011             </td><td>1                </td><td>TBA              </td><td>AL               </td><td>150              </td><td>150              </td><td>582              </td><td>79               </td><td>152              </td><td>⋯                </td><td>5                </td><td>4                </td><td>150              </td><td>0.261168384879725</td><td>0.325581395348837</td><td>100              </td><td>0.417525773195876</td><td>TBA              </td><td>AL               </td><td>5250000          </td></tr>\n",
       "\t<tr><th scope=row>7872</th><td>giambja01        </td><td>1995             </td><td>1                </td><td>OAK              </td><td>AL               </td><td>54               </td><td>54               </td><td>176              </td><td>27               </td><td>45               </td><td>⋯                </td><td>2                </td><td>4                </td><td>54               </td><td>0.255681818181818</td><td>0.363636363636364</td><td>32               </td><td>0.397727272727273</td><td>OAK              </td><td>AL               </td><td>109000           </td></tr>\n",
       "\t<tr><th scope=row>7873</th><td>giambja01        </td><td>1996             </td><td>1                </td><td>OAK              </td><td>AL               </td><td>140              </td><td>140              </td><td>536              </td><td>84               </td><td>156              </td><td>⋯                </td><td>5                </td><td>15               </td><td>140              </td><td>0.291044776119403</td><td>0.355108877721943</td><td>95               </td><td>0.48134328358209 </td><td>OAK              </td><td>AL               </td><td>120000           </td></tr>\n",
       "\t<tr><th scope=row>7874</th><td>giambja01        </td><td>1997             </td><td>1                </td><td>OAK              </td><td>AL               </td><td>142              </td><td>142              </td><td>519              </td><td>66               </td><td>152              </td><td>⋯                </td><td>8                </td><td>11               </td><td>142              </td><td>0.292870905587669</td><td>0.362244897959184</td><td>89               </td><td>0.495183044315992</td><td>OAK              </td><td>AL               </td><td>205000           </td></tr>\n",
       "\t<tr><th scope=row>7875</th><td>giambja01        </td><td>1998             </td><td>1                </td><td>OAK              </td><td>AL               </td><td>153              </td><td>153              </td><td>562              </td><td>92               </td><td>166              </td><td>⋯                </td><td>9                </td><td>16               </td><td>153              </td><td>0.295373665480427</td><td>0.383561643835616</td><td>111              </td><td>0.48932384341637 </td><td>OAK              </td><td>AL               </td><td>315000           </td></tr>\n",
       "\t<tr><th scope=row>7876</th><td>giambja01        </td><td>1999             </td><td>1                </td><td>OAK              </td><td>AL               </td><td>158              </td><td>158              </td><td>575              </td><td>115              </td><td>181              </td><td>⋯                </td><td>8                </td><td>11               </td><td>158              </td><td>0.314782608695652</td><td>0.42158273381295 </td><td>111              </td><td>0.55304347826087 </td><td>OAK              </td><td>AL               </td><td>2103333          </td></tr>\n",
       "\t<tr><th scope=row>7877</th><td>giambja01        </td><td>2000             </td><td>1                </td><td>OAK              </td><td>AL               </td><td>152              </td><td>152              </td><td>510              </td><td>108              </td><td>170              </td><td>⋯                </td><td>8                </td><td>9                </td><td>152              </td><td>0.333333333333333</td><td>0.475903614457831</td><td>97               </td><td>0.647058823529412</td><td>OAK              </td><td>AL               </td><td>3103333          </td></tr>\n",
       "\t<tr><th scope=row>7878</th><td>giambja01        </td><td>2001             </td><td>1                </td><td>OAK              </td><td>AL               </td><td>154              </td><td>154              </td><td>520              </td><td>109              </td><td>178              </td><td>⋯                </td><td>9                </td><td>17               </td><td>154              </td><td>0.342307692307692</td><td>0.476900149031297</td><td>91               </td><td>0.659615384615385</td><td>OAK              </td><td>AL               </td><td>4103333          </td></tr>\n",
       "\t<tr><th scope=row>7879</th><td>giambja01        </td><td>2002             </td><td>1                </td><td>NYA              </td><td>AL               </td><td>155              </td><td>155              </td><td>560              </td><td>120              </td><td>176              </td><td>⋯                </td><td>5                </td><td>18               </td><td>155              </td><td>0.314285714285714</td><td>0.435413642960813</td><td>100              </td><td>0.598214285714286</td><td>NYA              </td><td>AL               </td><td>10428571         </td></tr>\n",
       "\t<tr><th scope=row>7880</th><td>giambja01        </td><td>2003             </td><td>1                </td><td>NYA              </td><td>AL               </td><td>156              </td><td>156              </td><td>535              </td><td>97               </td><td>134              </td><td>⋯                </td><td>5                </td><td>9                </td><td>156              </td><td>0.250467289719626</td><td>0.411594202898551</td><td>68               </td><td>0.527102803738318</td><td>NYA              </td><td>AL               </td><td>11428571         </td></tr>\n",
       "\t<tr><th scope=row>7881</th><td>giambja01        </td><td>2004             </td><td>1                </td><td>NYA              </td><td>AL               </td><td>80               </td><td>80               </td><td>264              </td><td>33               </td><td>55               </td><td>⋯                </td><td>3                </td><td>5                </td><td>80               </td><td>0.208333333333333</td><td>0.341614906832298</td><td>34               </td><td>0.378787878787879</td><td>NYA              </td><td>AL               </td><td>12428571         </td></tr>\n",
       "\t<tr><th scope=row>7882</th><td>giambja01        </td><td>2005             </td><td>1                </td><td>NYA              </td><td>AL               </td><td>139              </td><td>139              </td><td>417              </td><td>74               </td><td>113              </td><td>⋯                </td><td>1                </td><td>7                </td><td>139              </td><td>0.270983213429257</td><td>0.440366972477064</td><td>67               </td><td>0.534772182254197</td><td>NYA              </td><td>AL               </td><td>13428571         </td></tr>\n",
       "\t<tr><th scope=row>7883</th><td>giambja01        </td><td>2006             </td><td>1                </td><td>NYA              </td><td>AL               </td><td>139              </td><td>139              </td><td>446              </td><td>92               </td><td>113              </td><td>⋯                </td><td>7                </td><td>10               </td><td>139              </td><td>0.253363228699552</td><td>0.412780656303972</td><td>51               </td><td>0.55829596412556 </td><td>NYA              </td><td>AL               </td><td>20428571         </td></tr>\n",
       "\t<tr><th scope=row>7884</th><td>giambja01        </td><td>2007             </td><td>1                </td><td>NYA              </td><td>AL               </td><td>83               </td><td>83               </td><td>254              </td><td>31               </td><td>60               </td><td>⋯                </td><td>1                </td><td>1                </td><td>83               </td><td>0.236220472440945</td><td>0.356435643564356</td><td>38               </td><td>0.433070866141732</td><td>NYA              </td><td>AL               </td><td>23428571         </td></tr>\n",
       "\t<tr><th scope=row>7885</th><td>giambja01        </td><td>2008             </td><td>1                </td><td>NYA              </td><td>AL               </td><td>145              </td><td>145              </td><td>458              </td><td>68               </td><td>113              </td><td>⋯                </td><td>9                </td><td>6                </td><td>145              </td><td>0.246724890829694</td><td>0.373451327433628</td><td>61               </td><td>0.502183406113537</td><td>NYA              </td><td>AL               </td><td>23428571         </td></tr>\n",
       "\t<tr><th scope=row>7886</th><td>giambja01        </td><td>2009             </td><td>1                </td><td>OAK              </td><td>AL               </td><td>83               </td><td>83               </td><td>269              </td><td>39               </td><td>52               </td><td>⋯                </td><td>2                </td><td>6                </td><td>NA               </td><td>0.193308550185874</td><td>0.332317073170732</td><td>28               </td><td>0.364312267657993</td><td>OAK              </td><td>AL               </td><td>4e+06            </td></tr>\n",
       "\t<tr><th scope=row>7887</th><td>giambja01        </td><td>2009             </td><td>2                </td><td>COL              </td><td>NL               </td><td>19               </td><td>19               </td><td>24               </td><td>4                </td><td>7                </td><td>⋯                </td><td>0                </td><td>0                </td><td>NA               </td><td>0.291666666666667</td><td>0.451612903225806</td><td>4                </td><td>0.583333333333333</td><td>OAK              </td><td>AL               </td><td>4e+06            </td></tr>\n",
       "\t<tr><th scope=row>7888</th><td>giambja01        </td><td>2010             </td><td>1                </td><td>COL              </td><td>NL               </td><td>87               </td><td>87               </td><td>176              </td><td>17               </td><td>43               </td><td>⋯                </td><td>5                </td><td>5                </td><td>NA               </td><td>0.244318181818182</td><td>0.378378378378378</td><td>28               </td><td>0.397727272727273</td><td>COL              </td><td>NL               </td><td>1750000          </td></tr>\n",
       "\t<tr><th scope=row>7889</th><td>giambja01        </td><td>2011             </td><td>1                </td><td>COL              </td><td>NL               </td><td>64               </td><td>64               </td><td>131              </td><td>20               </td><td>34               </td><td>⋯                </td><td>1                </td><td>1                </td><td>64               </td><td>0.259541984732824</td><td>0.355263157894737</td><td>15               </td><td>0.603053435114504</td><td>COL              </td><td>NL               </td><td>1e+06            </td></tr>\n",
       "\t<tr><th scope=row>7890</th><td>giambja01        </td><td>2012             </td><td>1                </td><td>COL              </td><td>NL               </td><td>60               </td><td>NA               </td><td>89               </td><td>7                </td><td>20               </td><td>⋯                </td><td>2                </td><td>4                </td><td>NA               </td><td>0.224719101123595</td><td>0.371681415929204</td><td>15               </td><td>0.303370786516854</td><td>COL              </td><td>NL               </td><td>1e+06            </td></tr>\n",
       "\t<tr><th scope=row>7891</th><td>giambja01        </td><td>2013             </td><td>1                </td><td>CLE              </td><td>AL               </td><td>71               </td><td>71               </td><td>186              </td><td>21               </td><td>34               </td><td>⋯                </td><td>3                </td><td>8                </td><td>NA               </td><td>0.182795698924731</td><td>0.282407407407407</td><td>17               </td><td>0.370967741935484</td><td>CLE              </td><td>AL               </td><td>750000           </td></tr>\n",
       "\t<tr><th scope=row>20112</th><td>saenzol01        </td><td>1999             </td><td>1                </td><td>OAK              </td><td>AL               </td><td>97               </td><td>97               </td><td>255              </td><td>41               </td><td>70               </td><td>⋯                </td><td>3                </td><td>6                </td><td>97               </td><td>0.274509803921569</td><td>0.36271186440678 </td><td>41               </td><td>0.474509803921569</td><td>OAK              </td><td>AL               </td><td>240000           </td></tr>\n",
       "\t<tr><th scope=row>20113</th><td>saenzol01        </td><td>2000             </td><td>1                </td><td>OAK              </td><td>AL               </td><td>76               </td><td>76               </td><td>214              </td><td>40               </td><td>67               </td><td>⋯                </td><td>1                </td><td>6                </td><td>76               </td><td>0.313084112149533</td><td>0.40080971659919 </td><td>44               </td><td>0.514018691588785</td><td>OAK              </td><td>AL               </td><td>260000           </td></tr>\n",
       "\t<tr><th scope=row>20114</th><td>saenzol01        </td><td>2001             </td><td>1                </td><td>OAK              </td><td>AL               </td><td>106              </td><td>106              </td><td>305              </td><td>33               </td><td>67               </td><td>⋯                </td><td>3                </td><td>9                </td><td>106              </td><td>0.219672131147541</td><td>0.291176470588235</td><td>36               </td><td>0.383606557377049</td><td>OAK              </td><td>AL               </td><td>290000           </td></tr>\n",
       "\t<tr><th scope=row>20115</th><td>saenzol01        </td><td>2002             </td><td>1                </td><td>OAK              </td><td>AL               </td><td>68               </td><td>68               </td><td>156              </td><td>15               </td><td>43               </td><td>⋯                </td><td>2                </td><td>2                </td><td>68               </td><td>0.275641025641026</td><td>0.353932584269663</td><td>26               </td><td>0.467948717948718</td><td>OAK              </td><td>AL               </td><td>8e+05            </td></tr>\n",
       "\t<tr><th scope=row>20116</th><td>saenzol01        </td><td>2005             </td><td>1                </td><td>LAN              </td><td>NL               </td><td>109              </td><td>109              </td><td>319              </td><td>39               </td><td>84               </td><td>⋯                </td><td>2                </td><td>12               </td><td>109              </td><td>0.263322884012539</td><td>0.324786324786325</td><td>45               </td><td>0.479623824451411</td><td>LAN              </td><td>NL               </td><td>650000           </td></tr>\n",
       "\t<tr><th scope=row>20117</th><td>saenzol01        </td><td>2006             </td><td>1                </td><td>LAN              </td><td>NL               </td><td>103              </td><td>103              </td><td>179              </td><td>30               </td><td>53               </td><td>⋯                </td><td>4                </td><td>4                </td><td>103              </td><td>0.29608938547486 </td><td>0.362745098039216</td><td>27               </td><td>0.564245810055866</td><td>LAN              </td><td>NL               </td><td>1e+06            </td></tr>\n",
       "\t<tr><th scope=row>20118</th><td>saenzol01        </td><td>2007             </td><td>1                </td><td>LAN              </td><td>NL               </td><td>92               </td><td>92               </td><td>110              </td><td>9                </td><td>21               </td><td>⋯                </td><td>4                </td><td>5                </td><td>92               </td><td>0.190909090909091</td><td>0.295454545454545</td><td>12               </td><td>0.345454545454545</td><td>LAN              </td><td>NL               </td><td>1e+06            </td></tr>\n",
       "</tbody>\n",
       "</table>\n"
      ],
      "text/latex": [
       "\\begin{tabular}{r|lllllllllllllllllllllllllllllll}\n",
       "  & playerID & yearID & stint & teamID.x & lgID.x & G & G\\_batting & AB & R & H & ⋯ & SF & GIDP & G\\_old & BA & OBP & X1B & SLG & teamID.y & lgID.y & salary\\\\\n",
       "\\hline\n",
       "\t5135 & damonjo01         & 1995              & 1                 & KCA               & AL                & 47                & 47                & 188               & 32                & 53                & ⋯                 & 3                 & 2                 & 47                & 0.281914893617021 & 0.323529411764706 & 34                & 0.441489361702128 & KCA               & AL                & 109000           \\\\\n",
       "\t5136 & damonjo01         & 1996              & 1                 & KCA               & AL                & 145               & 145               & 517               & 61                & 140               & ⋯                 & 5                 & 4                 & 145               & 0.270793036750484 & 0.31294964028777  & 107               & 0.367504835589942 & KCA               & AL                & 180000           \\\\\n",
       "\t5137 & damonjo01         & 1997              & 1                 & KCA               & AL                & 146               & 146               & 472               & 70                & 130               & ⋯                 & 1                 & 3                 & 146               & 0.275423728813559 & 0.337837837837838 & 102               & 0.385593220338983 & KCA               & AL                & 240000           \\\\\n",
       "\t5138 & damonjo01         & 1998              & 1                 & KCA               & AL                & 161               & 161               & 642               & 104               & 178               & ⋯                 & 3                 & 4                 & 161               & 0.277258566978193 & 0.339462517680339 & 120               & 0.439252336448598 & KCA               & AL                & 460000           \\\\\n",
       "\t5139 & damonjo01         & 1999              & 1                 & KCA               & AL                & 145               & 145               & 583               & 101               & 179               & ⋯                 & 4                 & 13                & 145               & 0.307032590051458 & 0.378995433789954 & 117               & 0.476843910806175 & KCA               & AL                & 2100000          \\\\\n",
       "\t5140 & damonjo01         & 2000              & 1                 & KCA               & AL                & 159               & 159               & 655               & 136               & 214               & ⋯                 & 12                & 7                 & 159               & 0.326717557251908 & 0.381991814461119 & 146               & 0.494656488549618 & KCA               & AL                & 4e+06            \\\\\n",
       "\t5141 & damonjo01         & 2001              & 1                 & OAK               & AL                & 155               & 155               & 644               & 108               & 165               & ⋯                 & 4                 & 7                 & 155               & 0.256211180124224 & 0.323529411764706 & 118               & 0.363354037267081 & OAK               & AL                & 7100000          \\\\\n",
       "\t5142 & damonjo01         & 2002              & 1                 & BOS               & AL                & 154               & 154               & 623               & 118               & 178               & ⋯                 & 5                 & 4                 & 154               & 0.285714285714286 & 0.356223175965665 & 119               & 0.443017656500803 & BOS               & AL                & 7250000          \\\\\n",
       "\t5143 & damonjo01         & 2003              & 1                 & BOS               & AL                & 145               & 145               & 608               & 103               & 166               & ⋯                 & 6                 & 5                 & 145               & 0.273026315789474 & 0.345029239766082 & 116               & 0.404605263157895 & BOS               & AL                & 7500000          \\\\\n",
       "\t5144 & damonjo01         & 2004              & 1                 & BOS               & AL                & 150               & 150               & 621               & 123               & 189               & ⋯                 & 3                 & 8                 & 150               & 0.304347826086957 & 0.38034188034188  & 128               & 0.476650563607085 & BOS               & AL                & 8e+06            \\\\\n",
       "\t5145 & damonjo01         & 2005              & 1                 & BOS               & AL                & 148               & 148               & 624               & 117               & 197               & ⋯                 & 9                 & 5                 & 148               & 0.315705128205128 & 0.366279069767442 & 146               & 0.439102564102564 & BOS               & AL                & 8250000          \\\\\n",
       "\t5146 & damonjo01         & 2006              & 1                 & NYA               & AL                & 149               & 149               & 593               & 115               & 169               & ⋯                 & 5                 & 4                 & 149               & 0.284991568296796 & 0.358744394618834 & 105               & 0.482293423271501 & NYA               & AL                & 1.3e+07          \\\\\n",
       "\t5147 & damonjo01         & 2007              & 1                 & NYA               & AL                & 141               & 141               & 533               & 93                & 144               & ⋯                 & 3                 & 4                 & 141               & 0.270168855534709 & 0.350993377483444 & 103               & 0.395872420262664 & NYA               & AL                & 1.3e+07          \\\\\n",
       "\t5148 & damonjo01         & 2008              & 1                 & NYA               & AL                & 143               & 143               & 555               & 95                & 168               & ⋯                 & 1                 & 5                 & 143               & 0.302702702702703 & 0.375201288244767 & 119               & 0.461261261261261 & NYA               & AL                & 1.3e+07          \\\\\n",
       "\t5149 & damonjo01         & 2009              & 1                 & NYA               & AL                & 143               & 143               & 550               & 107               & 155               & ⋯                 & 1                 & 9                 & NA                & 0.281818181818182 & 0.365384615384615 & 92                & 0.489090909090909 & NYA               & AL                & 1.3e+07          \\\\\n",
       "\t5150 & damonjo01         & 2010              & 1                 & DET               & AL                & 145               & 145               & 539               & 81                & 146               & ⋯                 & 1                 & 5                 & NA                & 0.270871985157699 & 0.355155482815057 & 97                & 0.400742115027829 & DET               & AL                & 8e+06            \\\\\n",
       "\t5151 & damonjo01         & 2011              & 1                 & TBA               & AL                & 150               & 150               & 582               & 79                & 152               & ⋯                 & 5                 & 4                 & 150               & 0.261168384879725 & 0.325581395348837 & 100               & 0.417525773195876 & TBA               & AL                & 5250000          \\\\\n",
       "\t7872 & giambja01         & 1995              & 1                 & OAK               & AL                & 54                & 54                & 176               & 27                & 45                & ⋯                 & 2                 & 4                 & 54                & 0.255681818181818 & 0.363636363636364 & 32                & 0.397727272727273 & OAK               & AL                & 109000           \\\\\n",
       "\t7873 & giambja01         & 1996              & 1                 & OAK               & AL                & 140               & 140               & 536               & 84                & 156               & ⋯                 & 5                 & 15                & 140               & 0.291044776119403 & 0.355108877721943 & 95                & 0.48134328358209  & OAK               & AL                & 120000           \\\\\n",
       "\t7874 & giambja01         & 1997              & 1                 & OAK               & AL                & 142               & 142               & 519               & 66                & 152               & ⋯                 & 8                 & 11                & 142               & 0.292870905587669 & 0.362244897959184 & 89                & 0.495183044315992 & OAK               & AL                & 205000           \\\\\n",
       "\t7875 & giambja01         & 1998              & 1                 & OAK               & AL                & 153               & 153               & 562               & 92                & 166               & ⋯                 & 9                 & 16                & 153               & 0.295373665480427 & 0.383561643835616 & 111               & 0.48932384341637  & OAK               & AL                & 315000           \\\\\n",
       "\t7876 & giambja01         & 1999              & 1                 & OAK               & AL                & 158               & 158               & 575               & 115               & 181               & ⋯                 & 8                 & 11                & 158               & 0.314782608695652 & 0.42158273381295  & 111               & 0.55304347826087  & OAK               & AL                & 2103333          \\\\\n",
       "\t7877 & giambja01         & 2000              & 1                 & OAK               & AL                & 152               & 152               & 510               & 108               & 170               & ⋯                 & 8                 & 9                 & 152               & 0.333333333333333 & 0.475903614457831 & 97                & 0.647058823529412 & OAK               & AL                & 3103333          \\\\\n",
       "\t7878 & giambja01         & 2001              & 1                 & OAK               & AL                & 154               & 154               & 520               & 109               & 178               & ⋯                 & 9                 & 17                & 154               & 0.342307692307692 & 0.476900149031297 & 91                & 0.659615384615385 & OAK               & AL                & 4103333          \\\\\n",
       "\t7879 & giambja01         & 2002              & 1                 & NYA               & AL                & 155               & 155               & 560               & 120               & 176               & ⋯                 & 5                 & 18                & 155               & 0.314285714285714 & 0.435413642960813 & 100               & 0.598214285714286 & NYA               & AL                & 10428571         \\\\\n",
       "\t7880 & giambja01         & 2003              & 1                 & NYA               & AL                & 156               & 156               & 535               & 97                & 134               & ⋯                 & 5                 & 9                 & 156               & 0.250467289719626 & 0.411594202898551 & 68                & 0.527102803738318 & NYA               & AL                & 11428571         \\\\\n",
       "\t7881 & giambja01         & 2004              & 1                 & NYA               & AL                & 80                & 80                & 264               & 33                & 55                & ⋯                 & 3                 & 5                 & 80                & 0.208333333333333 & 0.341614906832298 & 34                & 0.378787878787879 & NYA               & AL                & 12428571         \\\\\n",
       "\t7882 & giambja01         & 2005              & 1                 & NYA               & AL                & 139               & 139               & 417               & 74                & 113               & ⋯                 & 1                 & 7                 & 139               & 0.270983213429257 & 0.440366972477064 & 67                & 0.534772182254197 & NYA               & AL                & 13428571         \\\\\n",
       "\t7883 & giambja01         & 2006              & 1                 & NYA               & AL                & 139               & 139               & 446               & 92                & 113               & ⋯                 & 7                 & 10                & 139               & 0.253363228699552 & 0.412780656303972 & 51                & 0.55829596412556  & NYA               & AL                & 20428571         \\\\\n",
       "\t7884 & giambja01         & 2007              & 1                 & NYA               & AL                & 83                & 83                & 254               & 31                & 60                & ⋯                 & 1                 & 1                 & 83                & 0.236220472440945 & 0.356435643564356 & 38                & 0.433070866141732 & NYA               & AL                & 23428571         \\\\\n",
       "\t7885 & giambja01         & 2008              & 1                 & NYA               & AL                & 145               & 145               & 458               & 68                & 113               & ⋯                 & 9                 & 6                 & 145               & 0.246724890829694 & 0.373451327433628 & 61                & 0.502183406113537 & NYA               & AL                & 23428571         \\\\\n",
       "\t7886 & giambja01         & 2009              & 1                 & OAK               & AL                & 83                & 83                & 269               & 39                & 52                & ⋯                 & 2                 & 6                 & NA                & 0.193308550185874 & 0.332317073170732 & 28                & 0.364312267657993 & OAK               & AL                & 4e+06            \\\\\n",
       "\t7887 & giambja01         & 2009              & 2                 & COL               & NL                & 19                & 19                & 24                & 4                 & 7                 & ⋯                 & 0                 & 0                 & NA                & 0.291666666666667 & 0.451612903225806 & 4                 & 0.583333333333333 & OAK               & AL                & 4e+06            \\\\\n",
       "\t7888 & giambja01         & 2010              & 1                 & COL               & NL                & 87                & 87                & 176               & 17                & 43                & ⋯                 & 5                 & 5                 & NA                & 0.244318181818182 & 0.378378378378378 & 28                & 0.397727272727273 & COL               & NL                & 1750000          \\\\\n",
       "\t7889 & giambja01         & 2011              & 1                 & COL               & NL                & 64                & 64                & 131               & 20                & 34                & ⋯                 & 1                 & 1                 & 64                & 0.259541984732824 & 0.355263157894737 & 15                & 0.603053435114504 & COL               & NL                & 1e+06            \\\\\n",
       "\t7890 & giambja01         & 2012              & 1                 & COL               & NL                & 60                & NA                & 89                & 7                 & 20                & ⋯                 & 2                 & 4                 & NA                & 0.224719101123595 & 0.371681415929204 & 15                & 0.303370786516854 & COL               & NL                & 1e+06            \\\\\n",
       "\t7891 & giambja01         & 2013              & 1                 & CLE               & AL                & 71                & 71                & 186               & 21                & 34                & ⋯                 & 3                 & 8                 & NA                & 0.182795698924731 & 0.282407407407407 & 17                & 0.370967741935484 & CLE               & AL                & 750000           \\\\\n",
       "\t20112 & saenzol01         & 1999              & 1                 & OAK               & AL                & 97                & 97                & 255               & 41                & 70                & ⋯                 & 3                 & 6                 & 97                & 0.274509803921569 & 0.36271186440678  & 41                & 0.474509803921569 & OAK               & AL                & 240000           \\\\\n",
       "\t20113 & saenzol01         & 2000              & 1                 & OAK               & AL                & 76                & 76                & 214               & 40                & 67                & ⋯                 & 1                 & 6                 & 76                & 0.313084112149533 & 0.40080971659919  & 44                & 0.514018691588785 & OAK               & AL                & 260000           \\\\\n",
       "\t20114 & saenzol01         & 2001              & 1                 & OAK               & AL                & 106               & 106               & 305               & 33                & 67                & ⋯                 & 3                 & 9                 & 106               & 0.219672131147541 & 0.291176470588235 & 36                & 0.383606557377049 & OAK               & AL                & 290000           \\\\\n",
       "\t20115 & saenzol01         & 2002              & 1                 & OAK               & AL                & 68                & 68                & 156               & 15                & 43                & ⋯                 & 2                 & 2                 & 68                & 0.275641025641026 & 0.353932584269663 & 26                & 0.467948717948718 & OAK               & AL                & 8e+05            \\\\\n",
       "\t20116 & saenzol01         & 2005              & 1                 & LAN               & NL                & 109               & 109               & 319               & 39                & 84                & ⋯                 & 2                 & 12                & 109               & 0.263322884012539 & 0.324786324786325 & 45                & 0.479623824451411 & LAN               & NL                & 650000           \\\\\n",
       "\t20117 & saenzol01         & 2006              & 1                 & LAN               & NL                & 103               & 103               & 179               & 30                & 53                & ⋯                 & 4                 & 4                 & 103               & 0.29608938547486  & 0.362745098039216 & 27                & 0.564245810055866 & LAN               & NL                & 1e+06            \\\\\n",
       "\t20118 & saenzol01         & 2007              & 1                 & LAN               & NL                & 92                & 92                & 110               & 9                 & 21                & ⋯                 & 4                 & 5                 & 92                & 0.190909090909091 & 0.295454545454545 & 12                & 0.345454545454545 & LAN               & NL                & 1e+06            \\\\\n",
       "\\end{tabular}\n"
      ],
      "text/plain": [
       "       playerID yearID stint teamID.x lgID.x   G G_batting  AB   R   H ⋯ SF\n",
       "5135  damonjo01   1995     1      KCA     AL  47        47 188  32  53 ⋯  3\n",
       "5136  damonjo01   1996     1      KCA     AL 145       145 517  61 140 ⋯  5\n",
       "5137  damonjo01   1997     1      KCA     AL 146       146 472  70 130 ⋯  1\n",
       "5138  damonjo01   1998     1      KCA     AL 161       161 642 104 178 ⋯  3\n",
       "5139  damonjo01   1999     1      KCA     AL 145       145 583 101 179 ⋯  4\n",
       "5140  damonjo01   2000     1      KCA     AL 159       159 655 136 214 ⋯ 12\n",
       "5141  damonjo01   2001     1      OAK     AL 155       155 644 108 165 ⋯  4\n",
       "5142  damonjo01   2002     1      BOS     AL 154       154 623 118 178 ⋯  5\n",
       "5143  damonjo01   2003     1      BOS     AL 145       145 608 103 166 ⋯  6\n",
       "5144  damonjo01   2004     1      BOS     AL 150       150 621 123 189 ⋯  3\n",
       "5145  damonjo01   2005     1      BOS     AL 148       148 624 117 197 ⋯  9\n",
       "5146  damonjo01   2006     1      NYA     AL 149       149 593 115 169 ⋯  5\n",
       "5147  damonjo01   2007     1      NYA     AL 141       141 533  93 144 ⋯  3\n",
       "5148  damonjo01   2008     1      NYA     AL 143       143 555  95 168 ⋯  1\n",
       "5149  damonjo01   2009     1      NYA     AL 143       143 550 107 155 ⋯  1\n",
       "5150  damonjo01   2010     1      DET     AL 145       145 539  81 146 ⋯  1\n",
       "5151  damonjo01   2011     1      TBA     AL 150       150 582  79 152 ⋯  5\n",
       "7872  giambja01   1995     1      OAK     AL  54        54 176  27  45 ⋯  2\n",
       "7873  giambja01   1996     1      OAK     AL 140       140 536  84 156 ⋯  5\n",
       "7874  giambja01   1997     1      OAK     AL 142       142 519  66 152 ⋯  8\n",
       "7875  giambja01   1998     1      OAK     AL 153       153 562  92 166 ⋯  9\n",
       "7876  giambja01   1999     1      OAK     AL 158       158 575 115 181 ⋯  8\n",
       "7877  giambja01   2000     1      OAK     AL 152       152 510 108 170 ⋯  8\n",
       "7878  giambja01   2001     1      OAK     AL 154       154 520 109 178 ⋯  9\n",
       "7879  giambja01   2002     1      NYA     AL 155       155 560 120 176 ⋯  5\n",
       "7880  giambja01   2003     1      NYA     AL 156       156 535  97 134 ⋯  5\n",
       "7881  giambja01   2004     1      NYA     AL  80        80 264  33  55 ⋯  3\n",
       "7882  giambja01   2005     1      NYA     AL 139       139 417  74 113 ⋯  1\n",
       "7883  giambja01   2006     1      NYA     AL 139       139 446  92 113 ⋯  7\n",
       "7884  giambja01   2007     1      NYA     AL  83        83 254  31  60 ⋯  1\n",
       "7885  giambja01   2008     1      NYA     AL 145       145 458  68 113 ⋯  9\n",
       "7886  giambja01   2009     1      OAK     AL  83        83 269  39  52 ⋯  2\n",
       "7887  giambja01   2009     2      COL     NL  19        19  24   4   7 ⋯  0\n",
       "7888  giambja01   2010     1      COL     NL  87        87 176  17  43 ⋯  5\n",
       "7889  giambja01   2011     1      COL     NL  64        64 131  20  34 ⋯  1\n",
       "7890  giambja01   2012     1      COL     NL  60        NA  89   7  20 ⋯  2\n",
       "7891  giambja01   2013     1      CLE     AL  71        71 186  21  34 ⋯  3\n",
       "20112 saenzol01   1999     1      OAK     AL  97        97 255  41  70 ⋯  3\n",
       "20113 saenzol01   2000     1      OAK     AL  76        76 214  40  67 ⋯  1\n",
       "20114 saenzol01   2001     1      OAK     AL 106       106 305  33  67 ⋯  3\n",
       "20115 saenzol01   2002     1      OAK     AL  68        68 156  15  43 ⋯  2\n",
       "20116 saenzol01   2005     1      LAN     NL 109       109 319  39  84 ⋯  2\n",
       "20117 saenzol01   2006     1      LAN     NL 103       103 179  30  53 ⋯  4\n",
       "20118 saenzol01   2007     1      LAN     NL  92        92 110   9  21 ⋯  4\n",
       "      GIDP G_old        BA       OBP X1B       SLG teamID.y lgID.y   salary\n",
       "5135     2    47 0.2819149 0.3235294  34 0.4414894      KCA     AL   109000\n",
       "5136     4   145 0.2707930 0.3129496 107 0.3675048      KCA     AL   180000\n",
       "5137     3   146 0.2754237 0.3378378 102 0.3855932      KCA     AL   240000\n",
       "5138     4   161 0.2772586 0.3394625 120 0.4392523      KCA     AL   460000\n",
       "5139    13   145 0.3070326 0.3789954 117 0.4768439      KCA     AL  2100000\n",
       "5140     7   159 0.3267176 0.3819918 146 0.4946565      KCA     AL  4000000\n",
       "5141     7   155 0.2562112 0.3235294 118 0.3633540      OAK     AL  7100000\n",
       "5142     4   154 0.2857143 0.3562232 119 0.4430177      BOS     AL  7250000\n",
       "5143     5   145 0.2730263 0.3450292 116 0.4046053      BOS     AL  7500000\n",
       "5144     8   150 0.3043478 0.3803419 128 0.4766506      BOS     AL  8000000\n",
       "5145     5   148 0.3157051 0.3662791 146 0.4391026      BOS     AL  8250000\n",
       "5146     4   149 0.2849916 0.3587444 105 0.4822934      NYA     AL 13000000\n",
       "5147     4   141 0.2701689 0.3509934 103 0.3958724      NYA     AL 13000000\n",
       "5148     5   143 0.3027027 0.3752013 119 0.4612613      NYA     AL 13000000\n",
       "5149     9    NA 0.2818182 0.3653846  92 0.4890909      NYA     AL 13000000\n",
       "5150     5    NA 0.2708720 0.3551555  97 0.4007421      DET     AL  8000000\n",
       "5151     4   150 0.2611684 0.3255814 100 0.4175258      TBA     AL  5250000\n",
       "7872     4    54 0.2556818 0.3636364  32 0.3977273      OAK     AL   109000\n",
       "7873    15   140 0.2910448 0.3551089  95 0.4813433      OAK     AL   120000\n",
       "7874    11   142 0.2928709 0.3622449  89 0.4951830      OAK     AL   205000\n",
       "7875    16   153 0.2953737 0.3835616 111 0.4893238      OAK     AL   315000\n",
       "7876    11   158 0.3147826 0.4215827 111 0.5530435      OAK     AL  2103333\n",
       "7877     9   152 0.3333333 0.4759036  97 0.6470588      OAK     AL  3103333\n",
       "7878    17   154 0.3423077 0.4769001  91 0.6596154      OAK     AL  4103333\n",
       "7879    18   155 0.3142857 0.4354136 100 0.5982143      NYA     AL 10428571\n",
       "7880     9   156 0.2504673 0.4115942  68 0.5271028      NYA     AL 11428571\n",
       "7881     5    80 0.2083333 0.3416149  34 0.3787879      NYA     AL 12428571\n",
       "7882     7   139 0.2709832 0.4403670  67 0.5347722      NYA     AL 13428571\n",
       "7883    10   139 0.2533632 0.4127807  51 0.5582960      NYA     AL 20428571\n",
       "7884     1    83 0.2362205 0.3564356  38 0.4330709      NYA     AL 23428571\n",
       "7885     6   145 0.2467249 0.3734513  61 0.5021834      NYA     AL 23428571\n",
       "7886     6    NA 0.1933086 0.3323171  28 0.3643123      OAK     AL  4000000\n",
       "7887     0    NA 0.2916667 0.4516129   4 0.5833333      OAK     AL  4000000\n",
       "7888     5    NA 0.2443182 0.3783784  28 0.3977273      COL     NL  1750000\n",
       "7889     1    64 0.2595420 0.3552632  15 0.6030534      COL     NL  1000000\n",
       "7890     4    NA 0.2247191 0.3716814  15 0.3033708      COL     NL  1000000\n",
       "7891     8    NA 0.1827957 0.2824074  17 0.3709677      CLE     AL   750000\n",
       "20112    6    97 0.2745098 0.3627119  41 0.4745098      OAK     AL   240000\n",
       "20113    6    76 0.3130841 0.4008097  44 0.5140187      OAK     AL   260000\n",
       "20114    9   106 0.2196721 0.2911765  36 0.3836066      OAK     AL   290000\n",
       "20115    2    68 0.2756410 0.3539326  26 0.4679487      OAK     AL   800000\n",
       "20116   12   109 0.2633229 0.3247863  45 0.4796238      LAN     NL   650000\n",
       "20117    4   103 0.2960894 0.3627451  27 0.5642458      LAN     NL  1000000\n",
       "20118    5    92 0.1909091 0.2954545  12 0.3454545      LAN     NL  1000000"
      ]
     },
     "metadata": {},
     "output_type": "display_data"
    }
   ],
   "source": [
    "lost.boys"
   ]
  },
  {
   "cell_type": "markdown",
   "metadata": {},
   "source": [
    "**Let's further subset the data for the year 2001, the year the players were lost in offseason**"
   ]
  },
  {
   "cell_type": "code",
   "execution_count": 23,
   "metadata": {
    "collapsed": true
   },
   "outputs": [],
   "source": [
    "#Subset for 2001, the year the players were lost:\n",
    "lost.boys <- subset(lost.boys,yearID == 2001)"
   ]
  },
  {
   "cell_type": "markdown",
   "metadata": {},
   "source": [
    "**Reduce the lost_players data frame to the following columns: playerID,H,X2B,X3B,HR,OBP,SLG,BA,AB**"
   ]
  },
  {
   "cell_type": "code",
   "execution_count": 24,
   "metadata": {
    "collapsed": true
   },
   "outputs": [],
   "source": [
    "#Reducing columns for stats we care about:\n",
    "lost.boys <- lost.boys[,c('playerID','H','X2B','X3B','HR','OBP','SLG','BA','AB')]"
   ]
  },
  {
   "cell_type": "code",
   "execution_count": 25,
   "metadata": {
    "collapsed": false
   },
   "outputs": [
    {
     "data": {
      "text/html": [
       "<table>\n",
       "<thead><tr><th></th><th scope=col>playerID</th><th scope=col>H</th><th scope=col>X2B</th><th scope=col>X3B</th><th scope=col>HR</th><th scope=col>OBP</th><th scope=col>SLG</th><th scope=col>BA</th><th scope=col>AB</th></tr></thead>\n",
       "<tbody>\n",
       "\t<tr><th scope=row>5141</th><td>damonjo01        </td><td>165              </td><td>34               </td><td>4                </td><td>9                </td><td>0.323529411764706</td><td>0.363354037267081</td><td>0.256211180124224</td><td>644              </td></tr>\n",
       "\t<tr><th scope=row>7878</th><td>giambja01        </td><td>178              </td><td>47               </td><td>2                </td><td>38               </td><td>0.476900149031297</td><td>0.659615384615385</td><td>0.342307692307692</td><td>520              </td></tr>\n",
       "\t<tr><th scope=row>20114</th><td>saenzol01        </td><td>67               </td><td>21               </td><td>1                </td><td>9                </td><td>0.291176470588235</td><td>0.383606557377049</td><td>0.219672131147541</td><td>305              </td></tr>\n",
       "</tbody>\n",
       "</table>\n"
      ],
      "text/latex": [
       "\\begin{tabular}{r|lllllllll}\n",
       "  & playerID & H & X2B & X3B & HR & OBP & SLG & BA & AB\\\\\n",
       "\\hline\n",
       "\t5141 & damonjo01         & 165               & 34                & 4                 & 9                 & 0.323529411764706 & 0.363354037267081 & 0.256211180124224 & 644              \\\\\n",
       "\t7878 & giambja01         & 178               & 47                & 2                 & 38                & 0.476900149031297 & 0.659615384615385 & 0.342307692307692 & 520              \\\\\n",
       "\t20114 & saenzol01         & 67                & 21                & 1                 & 9                 & 0.291176470588235 & 0.383606557377049 & 0.219672131147541 & 305              \\\\\n",
       "\\end{tabular}\n"
      ],
      "text/plain": [
       "       playerID   H X2B X3B HR       OBP       SLG        BA  AB\n",
       "5141  damonjo01 165  34   4  9 0.3235294 0.3633540 0.2562112 644\n",
       "7878  giambja01 178  47   2 38 0.4769001 0.6596154 0.3423077 520\n",
       "20114 saenzol01  67  21   1  9 0.2911765 0.3836066 0.2196721 305"
      ]
     },
     "metadata": {},
     "output_type": "display_data"
    }
   ],
   "source": [
    "head(lost.boys)"
   ]
  },
  {
   "cell_type": "markdown",
   "metadata": {},
   "source": [
    "## Finding Replacement Players\n",
    "The replacement players have to meet the following constraints:<br>\n",
    "<ul>\n",
    "<li>The total combined salary of the three players can not exceed 15 million dollars.\n",
    "<li>Their combined number of At Bats (AB) needs to be equal to or greater than the lost players.\n",
    "<li>Their mean OBP had to equal to or greater than the mean OBP of the lost players\n",
    "</ul>"
   ]
  },
  {
   "cell_type": "markdown",
   "metadata": {},
   "source": [
    "**Select for players from year 2001**"
   ]
  },
  {
   "cell_type": "code",
   "execution_count": 26,
   "metadata": {
    "collapsed": false
   },
   "outputs": [
    {
     "name": "stderr",
     "output_type": "stream",
     "text": [
      "\n",
      "Attaching package: ‘dplyr’\n",
      "\n",
      "The following objects are masked from ‘package:stats’:\n",
      "\n",
      "    filter, lag\n",
      "\n",
      "The following objects are masked from ‘package:base’:\n",
      "\n",
      "    intersect, setdiff, setequal, union\n",
      "\n"
     ]
    }
   ],
   "source": [
    "#Filter for all players available in 2001\n",
    "library(dplyr)\n",
    "players.2001 <- filter(batting.sal,yearID == 2001)"
   ]
  },
  {
   "cell_type": "markdown",
   "metadata": {},
   "source": [
    "**Cut off AB for players at sum(lost.boys$AB)/3**"
   ]
  },
  {
   "cell_type": "code",
   "execution_count": 47,
   "metadata": {
    "collapsed": false
   },
   "outputs": [
    {
     "data": {
      "text/html": [
       "1469"
      ],
      "text/latex": [
       "1469"
      ],
      "text/markdown": [
       "1469"
      ],
      "text/plain": [
       "[1] 1469"
      ]
     },
     "metadata": {},
     "output_type": "display_data"
    }
   ],
   "source": [
    "#Get sum of AB for lost players\n",
    "sum.AB.lostboys <- sum(lost.boys$AB)"
   ]
  },
  {
   "cell_type": "code",
   "execution_count": 49,
   "metadata": {
    "collapsed": false
   },
   "outputs": [],
   "source": [
    "#Filter by new AB cutoff\n",
    "players.2001 <- filter(players.2001,AB >= sum.AB.lostboys/3)"
   ]
  },
  {
   "cell_type": "code",
   "execution_count": 50,
   "metadata": {
    "collapsed": true
   },
   "outputs": [],
   "source": [
    "#Add some other cutoffs, i.e. remove salaries over 8 mil, low OBP:\n",
    "players.2001 <- filter(players.2001,salary<8000000,OBP>0)"
   ]
  },
  {
   "cell_type": "markdown",
   "metadata": {},
   "source": [
    "**Sort by OBP**"
   ]
  },
  {
   "cell_type": "code",
   "execution_count": 53,
   "metadata": {
    "collapsed": false
   },
   "outputs": [],
   "source": [
    "#Get players with top 10 OBP\n",
    "candidates <- head(arrange(players.2001,desc(OBP)),10)"
   ]
  },
  {
   "cell_type": "markdown",
   "metadata": {},
   "source": [
    "**Remove the lost players from the candidates list**"
   ]
  },
  {
   "cell_type": "code",
   "execution_count": 55,
   "metadata": {
    "collapsed": false
   },
   "outputs": [],
   "source": [
    "#Remove lost players from options:\n",
    "candidates <- candidates[!(candidates$playerID %in% lost.boys.id),]\n",
    "\n",
    "#Subselect for columns we care about:\n",
    "candidates <- candidates[,c('playerID','OBP','AB','salary')]"
   ]
  },
  {
   "cell_type": "code",
   "execution_count": 57,
   "metadata": {
    "collapsed": false
   },
   "outputs": [
    {
     "data": {
      "text/html": [
       "<table>\n",
       "<thead><tr><th></th><th scope=col>playerID</th><th scope=col>OBP</th><th scope=col>AB</th><th scope=col>salary</th></tr></thead>\n",
       "<tbody>\n",
       "\t<tr><th scope=row>2</th><td>heltoto01        </td><td>0.431654676258993</td><td>587              </td><td>4950000          </td></tr>\n",
       "\t<tr><th scope=row>3</th><td>berkmla01        </td><td>0.430232558139535</td><td>577              </td><td>305000           </td></tr>\n",
       "\t<tr><th scope=row>4</th><td>gonzalu01        </td><td>0.428571428571429</td><td>609              </td><td>4833333          </td></tr>\n",
       "\t<tr><th scope=row>5</th><td>thomeji01        </td><td>0.416149068322981</td><td>526              </td><td>7875000          </td></tr>\n",
       "\t<tr><th scope=row>6</th><td>alomaro01        </td><td>0.414670658682635</td><td>575              </td><td>7750000          </td></tr>\n",
       "\t<tr><th scope=row>7</th><td>edmonji01        </td><td>0.410214168039539</td><td>500              </td><td>6333333          </td></tr>\n",
       "\t<tr><th scope=row>8</th><td>gilesbr02        </td><td>0.403560830860534</td><td>576              </td><td>7333333          </td></tr>\n",
       "\t<tr><th scope=row>9</th><td>pujolal01        </td><td>0.402962962962963</td><td>590              </td><td>2e+05            </td></tr>\n",
       "\t<tr><th scope=row>10</th><td>olerujo01       </td><td>0.40117994100295</td><td>572             </td><td>6700000         </td></tr>\n",
       "</tbody>\n",
       "</table>\n"
      ],
      "text/latex": [
       "\\begin{tabular}{r|llll}\n",
       "  & playerID & OBP & AB & salary\\\\\n",
       "\\hline\n",
       "\t2 & heltoto01         & 0.431654676258993 & 587               & 4950000          \\\\\n",
       "\t3 & berkmla01         & 0.430232558139535 & 577               & 305000           \\\\\n",
       "\t4 & gonzalu01         & 0.428571428571429 & 609               & 4833333          \\\\\n",
       "\t5 & thomeji01         & 0.416149068322981 & 526               & 7875000          \\\\\n",
       "\t6 & alomaro01         & 0.414670658682635 & 575               & 7750000          \\\\\n",
       "\t7 & edmonji01         & 0.410214168039539 & 500               & 6333333          \\\\\n",
       "\t8 & gilesbr02         & 0.403560830860534 & 576               & 7333333          \\\\\n",
       "\t9 & pujolal01         & 0.402962962962963 & 590               & 2e+05            \\\\\n",
       "\t10 & olerujo01        & 0.40117994100295 & 572              & 6700000         \\\\\n",
       "\\end{tabular}\n"
      ],
      "text/plain": [
       "    playerID       OBP  AB  salary\n",
       "2  heltoto01 0.4316547 587 4950000\n",
       "3  berkmla01 0.4302326 577  305000\n",
       "4  gonzalu01 0.4285714 609 4833333\n",
       "5  thomeji01 0.4161491 526 7875000\n",
       "6  alomaro01 0.4146707 575 7750000\n",
       "7  edmonji01 0.4102142 500 6333333\n",
       "8  gilesbr02 0.4035608 576 7333333\n",
       "9  pujolal01 0.4029630 590  200000\n",
       "10 olerujo01 0.4011799 572 6700000"
      ]
     },
     "metadata": {},
     "output_type": "display_data"
    }
   ],
   "source": [
    "#View top 10 candidates\n",
    "candidates"
   ]
  },
  {
   "cell_type": "code",
   "execution_count": 71,
   "metadata": {
    "collapsed": false
   },
   "outputs": [
    {
     "data": {
      "text/html": [
       "'OBP Mean: 0.363869'"
      ],
      "text/latex": [
       "'OBP Mean: 0.363869'"
      ],
      "text/markdown": [
       "'OBP Mean: 0.363869'"
      ],
      "text/plain": [
       "[1] \"OBP Mean: 0.363869\""
      ]
     },
     "metadata": {},
     "output_type": "display_data"
    },
    {
     "data": {
      "text/html": [
       "'Sum of AB: 1469.000000'"
      ],
      "text/latex": [
       "'Sum of AB: 1469.000000'"
      ],
      "text/markdown": [
       "'Sum of AB: 1469.000000'"
      ],
      "text/plain": [
       "[1] \"Sum of AB: 1469.000000\""
      ]
     },
     "metadata": {},
     "output_type": "display_data"
    }
   ],
   "source": [
    "#Compare with sum values for lost players to check criteria\n",
    "sprintf('OBP Mean: %f', mean(lost.boys$OBP))\n",
    "sprintf('Sum of AB: %f',sum(lost.boys$AB))"
   ]
  },
  {
   "cell_type": "markdown",
   "metadata": {},
   "source": [
    "**Check if the top 3 on the candidates list meet the criteria**"
   ]
  },
  {
   "cell_type": "code",
   "execution_count": 79,
   "metadata": {
    "collapsed": false
   },
   "outputs": [],
   "source": [
    "top.3 <- candidates[2:4,]"
   ]
  },
  {
   "cell_type": "code",
   "execution_count": 80,
   "metadata": {
    "collapsed": false
   },
   "outputs": [
    {
     "data": {
      "text/html": [
       "1712"
      ],
      "text/latex": [
       "1712"
      ],
      "text/markdown": [
       "1712"
      ],
      "text/plain": [
       "[1] 1712"
      ]
     },
     "metadata": {},
     "output_type": "display_data"
    }
   ],
   "source": [
    "#Sum of top 3's AB:\n",
    "sum(top.3$AB)"
   ]
  },
  {
   "cell_type": "markdown",
   "metadata": {},
   "source": [
    "The sum of their AB is greater than the sum of the AB of the lost players."
   ]
  },
  {
   "cell_type": "code",
   "execution_count": 81,
   "metadata": {
    "collapsed": false
   },
   "outputs": [
    {
     "data": {
      "text/html": [
       "0.424984351677982"
      ],
      "text/latex": [
       "0.424984351677982"
      ],
      "text/markdown": [
       "0.424984351677982"
      ],
      "text/plain": [
       "[1] 0.4249844"
      ]
     },
     "metadata": {},
     "output_type": "display_data"
    }
   ],
   "source": [
    "#Mean OBP of top 3:\n",
    "mean(top.3$OBP)"
   ]
  },
  {
   "cell_type": "markdown",
   "metadata": {},
   "source": [
    "Their mean OBP is greater than the mean of the lost players' OBP. Now checking last criteria:"
   ]
  },
  {
   "cell_type": "code",
   "execution_count": 82,
   "metadata": {
    "collapsed": false
   },
   "outputs": [
    {
     "data": {
      "text/html": [
       "13013333"
      ],
      "text/latex": [
       "13013333"
      ],
      "text/markdown": [
       "13013333"
      ],
      "text/plain": [
       "[1] 13013333"
      ]
     },
     "metadata": {},
     "output_type": "display_data"
    }
   ],
   "source": [
    "#Total salary of top 3:\n",
    "sum(top.3$salary)"
   ]
  },
  {
   "cell_type": "code",
   "execution_count": 84,
   "metadata": {
    "collapsed": false
   },
   "outputs": [
    {
     "data": {
      "text/html": [
       "<ol class=list-inline>\n",
       "\t<li>berkmla01</li>\n",
       "\t<li>gonzalu01</li>\n",
       "\t<li>thomeji01</li>\n",
       "</ol>\n"
      ],
      "text/latex": [
       "\\begin{enumerate*}\n",
       "\\item berkmla01\n",
       "\\item gonzalu01\n",
       "\\item thomeji01\n",
       "\\end{enumerate*}\n"
      ],
      "text/markdown": [
       "1. berkmla01\n",
       "2. gonzalu01\n",
       "3. thomeji01\n",
       "\n",
       "\n"
      ],
      "text/plain": [
       "[1] berkmla01 gonzalu01 thomeji01\n",
       "18107 Levels: aardsda01 aaronha01 aaronto01 aasedo01 abadan01 ... zwilldu01"
      ]
     },
     "metadata": {},
     "output_type": "display_data"
    }
   ],
   "source": [
    "#player ids for top 3\n",
    "top.3$playerID"
   ]
  },
  {
   "cell_type": "markdown",
   "metadata": {},
   "source": [
    "**Great! The top 3 candidates meet all the criteria. We have now identified best playing and undervalued recruits for the Oakland A's!**"
   ]
  }
 ],
 "metadata": {
  "anaconda-cloud": {},
  "kernelspec": {
   "display_name": "R",
   "language": "R",
   "name": "ir"
  },
  "language_info": {
   "codemirror_mode": "r",
   "file_extension": ".r",
   "mimetype": "text/x-r-source",
   "name": "R",
   "pygments_lexer": "r",
   "version": "3.3.1"
  }
 },
 "nbformat": 4,
 "nbformat_minor": 0
}
